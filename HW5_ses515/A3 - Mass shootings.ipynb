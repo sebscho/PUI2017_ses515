{
 "cells": [
  {
   "cell_type": "markdown",
   "metadata": {},
   "source": [
    "# Mass shootings - regression exercise"
   ]
  },
  {
   "cell_type": "markdown",
   "metadata": {},
   "source": [
    "skeleton: https://github.com/fedhere/PUI2017_fb55/blob/master/HW5_fb55/Assignment3_instructionsUpdated.ipynb"
   ]
  },
  {
   "cell_type": "markdown",
   "metadata": {},
   "source": [
    "# The data"
   ]
  },
  {
   "cell_type": "code",
   "execution_count": 1,
   "metadata": {
    "collapsed": false
   },
   "outputs": [
    {
     "name": "stdout",
     "output_type": "stream",
     "text": [
      "Populating the interactive namespace from numpy and matplotlib\n"
     ]
    }
   ],
   "source": [
    "import numpy as np\n",
    "import pandas as pd\n",
    "import matplotlib.pyplot as plt\n",
    "import pylab as pl\n",
    "import scipy as sp\n",
    "from scipy import stats   \n",
    "import matplotlib.mlab as mlab\n",
    "%pylab inline"
   ]
  },
  {
   "cell_type": "code",
   "execution_count": 3,
   "metadata": {
    "collapsed": false
   },
   "outputs": [],
   "source": [
    "df = pd.read_csv(\"https://raw.githubusercontent.com/sebscho/PUI2017_ses515/master/HW5_ses515/World-firearms-murders-ownership%20(1).csv\")\n",
    "df1 = pd.read_csv(\"https://raw.githubusercontent.com/sebscho/PUI2017_ses515/master/HW5_ses515/API_SP.POP.TOTL_DS2_en_csv_v2.csv\")\n",
    "df2 = pd.read_csv(\"https://raw.githubusercontent.com/sebscho/PUI2017_ses515/master/HW5_ses515/API_NY.GDP.MKTP.CD_DS2_en_csv_v2.csv\")\n",
    "df4 = pd.read_csv('https://raw.githubusercontent.com/sebscho/PUI2017_ses515/master/HW5_ses515/mass_shootings%20(1).csv')\n"
   ]
  },
  {
   "cell_type": "code",
   "execution_count": 4,
   "metadata": {
    "collapsed": false
   },
   "outputs": [
    {
     "data": {
      "text/html": [
       "<div>\n",
       "<table border=\"1\" class=\"dataframe\">\n",
       "  <thead>\n",
       "    <tr style=\"text-align: right;\">\n",
       "      <th></th>\n",
       "      <th>Country</th>\n",
       "      <th>ISO code</th>\n",
       "      <th>Source</th>\n",
       "      <th>% of homicides by firearm</th>\n",
       "      <th>Number of homicides by firearm</th>\n",
       "      <th>Homicide by firearm rate per 100,000 pop</th>\n",
       "      <th>Rank by rate of ownership</th>\n",
       "      <th>Guns/100 inhabitants</th>\n",
       "      <th>Average total all civilian firearms</th>\n",
       "    </tr>\n",
       "  </thead>\n",
       "  <tbody>\n",
       "    <tr>\n",
       "      <th>0</th>\n",
       "      <td>Albania</td>\n",
       "      <td>AL</td>\n",
       "      <td>CTS</td>\n",
       "      <td>65.9</td>\n",
       "      <td>56.0</td>\n",
       "      <td>1.76</td>\n",
       "      <td>70.0</td>\n",
       "      <td>8.6</td>\n",
       "      <td>270000.0</td>\n",
       "    </tr>\n",
       "    <tr>\n",
       "      <th>1</th>\n",
       "      <td>Algeria</td>\n",
       "      <td>DZ</td>\n",
       "      <td>CTS</td>\n",
       "      <td>4.8</td>\n",
       "      <td>20.0</td>\n",
       "      <td>0.06</td>\n",
       "      <td>78.0</td>\n",
       "      <td>7.6</td>\n",
       "      <td>1900000.0</td>\n",
       "    </tr>\n",
       "    <tr>\n",
       "      <th>2</th>\n",
       "      <td>Angola</td>\n",
       "      <td>AO</td>\n",
       "      <td>NaN</td>\n",
       "      <td>NaN</td>\n",
       "      <td>NaN</td>\n",
       "      <td>NaN</td>\n",
       "      <td>34.0</td>\n",
       "      <td>17.3</td>\n",
       "      <td>2800000.0</td>\n",
       "    </tr>\n",
       "  </tbody>\n",
       "</table>\n",
       "</div>"
      ],
      "text/plain": [
       "   Country ISO code Source  % of homicides by firearm  \\\n",
       "0  Albania       AL    CTS                       65.9   \n",
       "1  Algeria       DZ    CTS                        4.8   \n",
       "2   Angola       AO    NaN                        NaN   \n",
       "\n",
       "   Number of homicides by firearm  Homicide by firearm rate per 100,000 pop  \\\n",
       "0                            56.0                                      1.76   \n",
       "1                            20.0                                      0.06   \n",
       "2                             NaN                                       NaN   \n",
       "\n",
       "   Rank by rate of ownership  Guns/100 inhabitants  \\\n",
       "0                       70.0                   8.6   \n",
       "1                       78.0                   7.6   \n",
       "2                       34.0                  17.3   \n",
       "\n",
       "   Average total all civilian firearms  \n",
       "0                             270000.0  \n",
       "1                            1900000.0  \n",
       "2                            2800000.0  "
      ]
     },
     "execution_count": 4,
     "metadata": {},
     "output_type": "execute_result"
    }
   ],
   "source": [
    "df.rename(columns={'Country/Territory': 'Country', 'Average firearms per 100 people': 'Guns/100 inhabitants'}, inplace=True)\n",
    "df.head(3)"
   ]
  },
  {
   "cell_type": "code",
   "execution_count": 5,
   "metadata": {
    "collapsed": false
   },
   "outputs": [
    {
     "data": {
      "text/html": [
       "<div>\n",
       "<table border=\"1\" class=\"dataframe\">\n",
       "  <thead>\n",
       "    <tr style=\"text-align: right;\">\n",
       "      <th></th>\n",
       "      <th>Country</th>\n",
       "      <th>Pop</th>\n",
       "    </tr>\n",
       "  </thead>\n",
       "  <tbody>\n",
       "    <tr>\n",
       "      <th>0</th>\n",
       "      <td>Aruba</td>\n",
       "      <td>102577.0</td>\n",
       "    </tr>\n",
       "    <tr>\n",
       "      <th>1</th>\n",
       "      <td>Afghanistan</td>\n",
       "      <td>30696958.0</td>\n",
       "    </tr>\n",
       "    <tr>\n",
       "      <th>2</th>\n",
       "      <td>Angola</td>\n",
       "      <td>25096150.0</td>\n",
       "    </tr>\n",
       "  </tbody>\n",
       "</table>\n",
       "</div>"
      ],
      "text/plain": [
       "       Country         Pop\n",
       "0        Aruba    102577.0\n",
       "1  Afghanistan  30696958.0\n",
       "2       Angola  25096150.0"
      ]
     },
     "execution_count": 5,
     "metadata": {},
     "output_type": "execute_result"
    }
   ],
   "source": [
    "df1 = df1[['Country Name', '2012']]\n",
    "# df.rename(columns={'oldName1': 'newName1', 'oldName2': 'newName2'}, inplace=True)\n",
    "df1.rename(columns={'Country Name': 'Country', '2012': 'Pop'}, inplace=True)\n",
    "df1.head(3)"
   ]
  },
  {
   "cell_type": "code",
   "execution_count": 6,
   "metadata": {
    "collapsed": false
   },
   "outputs": [
    {
     "data": {
      "text/html": [
       "<div>\n",
       "<table border=\"1\" class=\"dataframe\">\n",
       "  <thead>\n",
       "    <tr style=\"text-align: right;\">\n",
       "      <th></th>\n",
       "      <th>Country</th>\n",
       "      <th>GDP</th>\n",
       "    </tr>\n",
       "  </thead>\n",
       "  <tbody>\n",
       "    <tr>\n",
       "      <th>0</th>\n",
       "      <td>Aruba</td>\n",
       "      <td>NaN</td>\n",
       "    </tr>\n",
       "    <tr>\n",
       "      <th>1</th>\n",
       "      <td>Afghanistan</td>\n",
       "      <td>2.053654e+10</td>\n",
       "    </tr>\n",
       "  </tbody>\n",
       "</table>\n",
       "</div>"
      ],
      "text/plain": [
       "       Country           GDP\n",
       "0        Aruba           NaN\n",
       "1  Afghanistan  2.053654e+10"
      ]
     },
     "execution_count": 6,
     "metadata": {},
     "output_type": "execute_result"
    }
   ],
   "source": [
    "df2 = df2[['Country Name', '2012']]\n",
    "df2.rename(columns={'Country Name': 'Country', '2012': 'GDP'}, inplace=True)\n",
    "df2.head(2)"
   ]
  },
  {
   "cell_type": "code",
   "execution_count": 7,
   "metadata": {
    "collapsed": false
   },
   "outputs": [
    {
     "data": {
      "text/html": [
       "<div>\n",
       "<table border=\"1\" class=\"dataframe\">\n",
       "  <thead>\n",
       "    <tr style=\"text-align: right;\">\n",
       "      <th></th>\n",
       "      <th>Country</th>\n",
       "      <th>Pop</th>\n",
       "      <th>ISO code</th>\n",
       "      <th>Source</th>\n",
       "      <th>% of homicides by firearm</th>\n",
       "      <th>Number of homicides by firearm</th>\n",
       "      <th>Homicide by firearm rate per 100,000 pop</th>\n",
       "      <th>Rank by rate of ownership</th>\n",
       "      <th>Guns/100 inhabitants</th>\n",
       "      <th>Average total all civilian firearms</th>\n",
       "    </tr>\n",
       "  </thead>\n",
       "  <tbody>\n",
       "    <tr>\n",
       "      <th>0</th>\n",
       "      <td>Angola</td>\n",
       "      <td>25096150.0</td>\n",
       "      <td>AO</td>\n",
       "      <td>NaN</td>\n",
       "      <td>NaN</td>\n",
       "      <td>NaN</td>\n",
       "      <td>NaN</td>\n",
       "      <td>34.0</td>\n",
       "      <td>17.3</td>\n",
       "      <td>2800000.0</td>\n",
       "    </tr>\n",
       "    <tr>\n",
       "      <th>1</th>\n",
       "      <td>Albania</td>\n",
       "      <td>2900401.0</td>\n",
       "      <td>AL</td>\n",
       "      <td>CTS</td>\n",
       "      <td>65.9</td>\n",
       "      <td>56.0</td>\n",
       "      <td>1.76</td>\n",
       "      <td>70.0</td>\n",
       "      <td>8.6</td>\n",
       "      <td>270000.0</td>\n",
       "    </tr>\n",
       "    <tr>\n",
       "      <th>2</th>\n",
       "      <td>United Arab Emirates</td>\n",
       "      <td>8900453.0</td>\n",
       "      <td>AE</td>\n",
       "      <td>NaN</td>\n",
       "      <td>NaN</td>\n",
       "      <td>NaN</td>\n",
       "      <td>NaN</td>\n",
       "      <td>24.0</td>\n",
       "      <td>22.1</td>\n",
       "      <td>1000000.0</td>\n",
       "    </tr>\n",
       "    <tr>\n",
       "      <th>3</th>\n",
       "      <td>Argentina</td>\n",
       "      <td>42096739.0</td>\n",
       "      <td>AR</td>\n",
       "      <td>Ministry of Justice</td>\n",
       "      <td>52.0</td>\n",
       "      <td>1198.0</td>\n",
       "      <td>3.02</td>\n",
       "      <td>62.0</td>\n",
       "      <td>10.2</td>\n",
       "      <td>3950000.0</td>\n",
       "    </tr>\n",
       "    <tr>\n",
       "      <th>4</th>\n",
       "      <td>Armenia</td>\n",
       "      <td>2881922.0</td>\n",
       "      <td>AM</td>\n",
       "      <td>CTS</td>\n",
       "      <td>13.0</td>\n",
       "      <td>9.0</td>\n",
       "      <td>0.29</td>\n",
       "      <td>52.0</td>\n",
       "      <td>12.5</td>\n",
       "      <td>380000.0</td>\n",
       "    </tr>\n",
       "  </tbody>\n",
       "</table>\n",
       "</div>"
      ],
      "text/plain": [
       "                Country         Pop ISO code               Source  \\\n",
       "0                Angola  25096150.0       AO                  NaN   \n",
       "1               Albania   2900401.0       AL                  CTS   \n",
       "2  United Arab Emirates   8900453.0       AE                  NaN   \n",
       "3             Argentina  42096739.0       AR  Ministry of Justice   \n",
       "4               Armenia   2881922.0       AM                  CTS   \n",
       "\n",
       "   % of homicides by firearm  Number of homicides by firearm  \\\n",
       "0                        NaN                             NaN   \n",
       "1                       65.9                            56.0   \n",
       "2                        NaN                             NaN   \n",
       "3                       52.0                          1198.0   \n",
       "4                       13.0                             9.0   \n",
       "\n",
       "   Homicide by firearm rate per 100,000 pop  Rank by rate of ownership  \\\n",
       "0                                       NaN                       34.0   \n",
       "1                                      1.76                       70.0   \n",
       "2                                       NaN                       24.0   \n",
       "3                                      3.02                       62.0   \n",
       "4                                      0.29                       52.0   \n",
       "\n",
       "   Guns/100 inhabitants  Average total all civilian firearms  \n",
       "0                  17.3                            2800000.0  \n",
       "1                   8.6                             270000.0  \n",
       "2                  22.1                            1000000.0  \n",
       "3                  10.2                            3950000.0  \n",
       "4                  12.5                             380000.0  "
      ]
     },
     "execution_count": 7,
     "metadata": {},
     "output_type": "execute_result"
    }
   ],
   "source": [
    "dat = pd.merge(df1, df, on='Country')\n",
    "dat.head()"
   ]
  },
  {
   "cell_type": "code",
   "execution_count": 8,
   "metadata": {
    "collapsed": false
   },
   "outputs": [
    {
     "data": {
      "text/html": [
       "<div>\n",
       "<table border=\"1\" class=\"dataframe\">\n",
       "  <thead>\n",
       "    <tr style=\"text-align: right;\">\n",
       "      <th></th>\n",
       "      <th>Country</th>\n",
       "      <th>Pop</th>\n",
       "      <th>ISO code</th>\n",
       "      <th>Source</th>\n",
       "      <th>% of homicides by firearm</th>\n",
       "      <th>Number of homicides by firearm</th>\n",
       "      <th>Homicide by firearm rate per 100,000 pop</th>\n",
       "      <th>Rank by rate of ownership</th>\n",
       "      <th>Guns/100 inhabitants</th>\n",
       "      <th>Average total all civilian firearms</th>\n",
       "      <th>GDP</th>\n",
       "    </tr>\n",
       "  </thead>\n",
       "  <tbody>\n",
       "    <tr>\n",
       "      <th>0</th>\n",
       "      <td>Angola</td>\n",
       "      <td>25096150.0</td>\n",
       "      <td>AO</td>\n",
       "      <td>NaN</td>\n",
       "      <td>NaN</td>\n",
       "      <td>NaN</td>\n",
       "      <td>NaN</td>\n",
       "      <td>34.0</td>\n",
       "      <td>17.3</td>\n",
       "      <td>2800000.0</td>\n",
       "      <td>1.153980e+11</td>\n",
       "    </tr>\n",
       "    <tr>\n",
       "      <th>1</th>\n",
       "      <td>Albania</td>\n",
       "      <td>2900401.0</td>\n",
       "      <td>AL</td>\n",
       "      <td>CTS</td>\n",
       "      <td>65.9</td>\n",
       "      <td>56.0</td>\n",
       "      <td>1.76</td>\n",
       "      <td>70.0</td>\n",
       "      <td>8.6</td>\n",
       "      <td>270000.0</td>\n",
       "      <td>1.231978e+10</td>\n",
       "    </tr>\n",
       "    <tr>\n",
       "      <th>2</th>\n",
       "      <td>United Arab Emirates</td>\n",
       "      <td>8900453.0</td>\n",
       "      <td>AE</td>\n",
       "      <td>NaN</td>\n",
       "      <td>NaN</td>\n",
       "      <td>NaN</td>\n",
       "      <td>NaN</td>\n",
       "      <td>24.0</td>\n",
       "      <td>22.1</td>\n",
       "      <td>1000000.0</td>\n",
       "      <td>3.748180e+11</td>\n",
       "    </tr>\n",
       "    <tr>\n",
       "      <th>3</th>\n",
       "      <td>Argentina</td>\n",
       "      <td>42096739.0</td>\n",
       "      <td>AR</td>\n",
       "      <td>Ministry of Justice</td>\n",
       "      <td>52.0</td>\n",
       "      <td>1198.0</td>\n",
       "      <td>3.02</td>\n",
       "      <td>62.0</td>\n",
       "      <td>10.2</td>\n",
       "      <td>3950000.0</td>\n",
       "      <td>5.459820e+11</td>\n",
       "    </tr>\n",
       "    <tr>\n",
       "      <th>4</th>\n",
       "      <td>Armenia</td>\n",
       "      <td>2881922.0</td>\n",
       "      <td>AM</td>\n",
       "      <td>CTS</td>\n",
       "      <td>13.0</td>\n",
       "      <td>9.0</td>\n",
       "      <td>0.29</td>\n",
       "      <td>52.0</td>\n",
       "      <td>12.5</td>\n",
       "      <td>380000.0</td>\n",
       "      <td>1.061932e+10</td>\n",
       "    </tr>\n",
       "  </tbody>\n",
       "</table>\n",
       "</div>"
      ],
      "text/plain": [
       "                Country         Pop ISO code               Source  \\\n",
       "0                Angola  25096150.0       AO                  NaN   \n",
       "1               Albania   2900401.0       AL                  CTS   \n",
       "2  United Arab Emirates   8900453.0       AE                  NaN   \n",
       "3             Argentina  42096739.0       AR  Ministry of Justice   \n",
       "4               Armenia   2881922.0       AM                  CTS   \n",
       "\n",
       "   % of homicides by firearm  Number of homicides by firearm  \\\n",
       "0                        NaN                             NaN   \n",
       "1                       65.9                            56.0   \n",
       "2                        NaN                             NaN   \n",
       "3                       52.0                          1198.0   \n",
       "4                       13.0                             9.0   \n",
       "\n",
       "   Homicide by firearm rate per 100,000 pop  Rank by rate of ownership  \\\n",
       "0                                       NaN                       34.0   \n",
       "1                                      1.76                       70.0   \n",
       "2                                       NaN                       24.0   \n",
       "3                                      3.02                       62.0   \n",
       "4                                      0.29                       52.0   \n",
       "\n",
       "   Guns/100 inhabitants  Average total all civilian firearms           GDP  \n",
       "0                  17.3                            2800000.0  1.153980e+11  \n",
       "1                   8.6                             270000.0  1.231978e+10  \n",
       "2                  22.1                            1000000.0  3.748180e+11  \n",
       "3                  10.2                            3950000.0  5.459820e+11  \n",
       "4                  12.5                             380000.0  1.061932e+10  "
      ]
     },
     "execution_count": 8,
     "metadata": {},
     "output_type": "execute_result"
    }
   ],
   "source": [
    "data = pd.merge(dat, df2, on='Country')\n",
    "data.head()"
   ]
  },
  {
   "cell_type": "code",
   "execution_count": 9,
   "metadata": {
    "collapsed": false
   },
   "outputs": [
    {
     "data": {
      "text/html": [
       "<div>\n",
       "<table border=\"1\" class=\"dataframe\">\n",
       "  <thead>\n",
       "    <tr style=\"text-align: right;\">\n",
       "      <th></th>\n",
       "      <th>Country</th>\n",
       "      <th>Pop</th>\n",
       "      <th>ISO code</th>\n",
       "      <th>Source</th>\n",
       "      <th>% of homicides by firearm</th>\n",
       "      <th>Number of homicides by firearm</th>\n",
       "      <th>Homicide by firearm rate per 100,000 pop</th>\n",
       "      <th>Rank by rate of ownership</th>\n",
       "      <th>Guns/100 inhabitants_x</th>\n",
       "      <th>Average total all civilian firearms</th>\n",
       "      <th>GDP</th>\n",
       "      <th>Guns/100 inhabitants_y</th>\n",
       "      <th>Number of mass shootings</th>\n",
       "    </tr>\n",
       "  </thead>\n",
       "  <tbody>\n",
       "    <tr>\n",
       "      <th>17</th>\n",
       "      <td>New Zealand</td>\n",
       "      <td>4408100.0</td>\n",
       "      <td>NZ</td>\n",
       "      <td>CTS</td>\n",
       "      <td>13.5</td>\n",
       "      <td>7.0</td>\n",
       "      <td>0.16</td>\n",
       "      <td>22.0</td>\n",
       "      <td>22.6</td>\n",
       "      <td>925000.0</td>\n",
       "      <td>1.761930e+11</td>\n",
       "      <td>22.6</td>\n",
       "      <td>3</td>\n",
       "    </tr>\n",
       "    <tr>\n",
       "      <th>18</th>\n",
       "      <td>Poland</td>\n",
       "      <td>38063164.0</td>\n",
       "      <td>PL</td>\n",
       "      <td>CTS</td>\n",
       "      <td>7.1</td>\n",
       "      <td>35.0</td>\n",
       "      <td>0.09</td>\n",
       "      <td>142.0</td>\n",
       "      <td>1.3</td>\n",
       "      <td>510000.0</td>\n",
       "      <td>5.003440e+11</td>\n",
       "      <td>1.3</td>\n",
       "      <td>0</td>\n",
       "    </tr>\n",
       "    <tr>\n",
       "      <th>19</th>\n",
       "      <td>Portugal</td>\n",
       "      <td>10514844.0</td>\n",
       "      <td>PT</td>\n",
       "      <td>CTS</td>\n",
       "      <td>33.8</td>\n",
       "      <td>44.0</td>\n",
       "      <td>0.41</td>\n",
       "      <td>72.0</td>\n",
       "      <td>8.5</td>\n",
       "      <td>900000.0</td>\n",
       "      <td>2.163680e+11</td>\n",
       "      <td>8.5</td>\n",
       "      <td>1</td>\n",
       "    </tr>\n",
       "    <tr>\n",
       "      <th>20</th>\n",
       "      <td>Sweden</td>\n",
       "      <td>9519374.0</td>\n",
       "      <td>SE</td>\n",
       "      <td>CTS</td>\n",
       "      <td>33.9</td>\n",
       "      <td>37.0</td>\n",
       "      <td>0.41</td>\n",
       "      <td>10.0</td>\n",
       "      <td>31.6</td>\n",
       "      <td>2800000.0</td>\n",
       "      <td>5.438810e+11</td>\n",
       "      <td>31.6</td>\n",
       "      <td>2</td>\n",
       "    </tr>\n",
       "    <tr>\n",
       "      <th>21</th>\n",
       "      <td>United States</td>\n",
       "      <td>313998379.0</td>\n",
       "      <td>US</td>\n",
       "      <td>CTS</td>\n",
       "      <td>60.0</td>\n",
       "      <td>9146.0</td>\n",
       "      <td>2.97</td>\n",
       "      <td>1.0</td>\n",
       "      <td>88.8</td>\n",
       "      <td>270000000.0</td>\n",
       "      <td>1.615530e+13</td>\n",
       "      <td>88.8</td>\n",
       "      <td>78</td>\n",
       "    </tr>\n",
       "  </tbody>\n",
       "</table>\n",
       "</div>"
      ],
      "text/plain": [
       "          Country          Pop ISO code Source  % of homicides by firearm  \\\n",
       "17    New Zealand    4408100.0       NZ    CTS                       13.5   \n",
       "18         Poland   38063164.0       PL    CTS                        7.1   \n",
       "19       Portugal   10514844.0       PT    CTS                       33.8   \n",
       "20         Sweden    9519374.0       SE    CTS                       33.9   \n",
       "21  United States  313998379.0       US    CTS                       60.0   \n",
       "\n",
       "    Number of homicides by firearm  Homicide by firearm rate per 100,000 pop  \\\n",
       "17                             7.0                                      0.16   \n",
       "18                            35.0                                      0.09   \n",
       "19                            44.0                                      0.41   \n",
       "20                            37.0                                      0.41   \n",
       "21                          9146.0                                      2.97   \n",
       "\n",
       "    Rank by rate of ownership  Guns/100 inhabitants_x  \\\n",
       "17                       22.0                    22.6   \n",
       "18                      142.0                     1.3   \n",
       "19                       72.0                     8.5   \n",
       "20                       10.0                    31.6   \n",
       "21                        1.0                    88.8   \n",
       "\n",
       "    Average total all civilian firearms           GDP  Guns/100 inhabitants_y  \\\n",
       "17                             925000.0  1.761930e+11                    22.6   \n",
       "18                             510000.0  5.003440e+11                     1.3   \n",
       "19                             900000.0  2.163680e+11                     8.5   \n",
       "20                            2800000.0  5.438810e+11                    31.6   \n",
       "21                          270000000.0  1.615530e+13                    88.8   \n",
       "\n",
       "    Number of mass shootings  \n",
       "17                         3  \n",
       "18                         0  \n",
       "19                         1  \n",
       "20                         2  \n",
       "21                        78  "
      ]
     },
     "execution_count": 9,
     "metadata": {},
     "output_type": "execute_result"
    }
   ],
   "source": [
    "data = pd.merge(data, df4, on='Country')\n",
    "data.tail()"
   ]
  },
  {
   "cell_type": "code",
   "execution_count": 10,
   "metadata": {
    "collapsed": false
   },
   "outputs": [
    {
     "data": {
      "text/html": [
       "<div>\n",
       "<table border=\"1\" class=\"dataframe\">\n",
       "  <thead>\n",
       "    <tr style=\"text-align: right;\">\n",
       "      <th></th>\n",
       "      <th>Country</th>\n",
       "      <th>Pop</th>\n",
       "      <th>GDP</th>\n",
       "      <th>Average total all civilian firearms</th>\n",
       "      <th>Number of homicides by firearm</th>\n",
       "      <th>Guns/100 inhabitants_x</th>\n",
       "      <th>Number of mass shootings</th>\n",
       "    </tr>\n",
       "  </thead>\n",
       "  <tbody>\n",
       "    <tr>\n",
       "      <th>0</th>\n",
       "      <td>Australia</td>\n",
       "      <td>22728254.0</td>\n",
       "      <td>1.538190e+12</td>\n",
       "      <td>3050000.0</td>\n",
       "      <td>30.0</td>\n",
       "      <td>15.0</td>\n",
       "      <td>4</td>\n",
       "    </tr>\n",
       "    <tr>\n",
       "      <th>1</th>\n",
       "      <td>Austria</td>\n",
       "      <td>8429991.0</td>\n",
       "      <td>4.074520e+11</td>\n",
       "      <td>2500000.0</td>\n",
       "      <td>18.0</td>\n",
       "      <td>30.4</td>\n",
       "      <td>1</td>\n",
       "    </tr>\n",
       "    <tr>\n",
       "      <th>2</th>\n",
       "      <td>Canada</td>\n",
       "      <td>34750545.0</td>\n",
       "      <td>1.824290e+12</td>\n",
       "      <td>9950000.0</td>\n",
       "      <td>173.0</td>\n",
       "      <td>30.8</td>\n",
       "      <td>4</td>\n",
       "    </tr>\n",
       "    <tr>\n",
       "      <th>3</th>\n",
       "      <td>Switzerland</td>\n",
       "      <td>7996861.0</td>\n",
       "      <td>6.650540e+11</td>\n",
       "      <td>3400000.0</td>\n",
       "      <td>57.0</td>\n",
       "      <td>45.7</td>\n",
       "      <td>2</td>\n",
       "    </tr>\n",
       "    <tr>\n",
       "      <th>4</th>\n",
       "      <td>Germany</td>\n",
       "      <td>80425823.0</td>\n",
       "      <td>3.543980e+12</td>\n",
       "      <td>25000000.0</td>\n",
       "      <td>158.0</td>\n",
       "      <td>30.3</td>\n",
       "      <td>7</td>\n",
       "    </tr>\n",
       "  </tbody>\n",
       "</table>\n",
       "</div>"
      ],
      "text/plain": [
       "       Country         Pop           GDP  Average total all civilian firearms  \\\n",
       "0    Australia  22728254.0  1.538190e+12                            3050000.0   \n",
       "1      Austria   8429991.0  4.074520e+11                            2500000.0   \n",
       "2       Canada  34750545.0  1.824290e+12                            9950000.0   \n",
       "3  Switzerland   7996861.0  6.650540e+11                            3400000.0   \n",
       "4      Germany  80425823.0  3.543980e+12                           25000000.0   \n",
       "\n",
       "   Number of homicides by firearm  Guns/100 inhabitants_x  \\\n",
       "0                            30.0                    15.0   \n",
       "1                            18.0                    30.4   \n",
       "2                           173.0                    30.8   \n",
       "3                            57.0                    45.7   \n",
       "4                           158.0                    30.3   \n",
       "\n",
       "   Number of mass shootings  \n",
       "0                         4  \n",
       "1                         1  \n",
       "2                         4  \n",
       "3                         2  \n",
       "4                         7  "
      ]
     },
     "execution_count": 10,
     "metadata": {},
     "output_type": "execute_result"
    }
   ],
   "source": [
    "data = data[['Country', 'Pop', 'GDP', 'Average total all civilian firearms', 'Number of homicides by firearm', 'Guns/100 inhabitants_x', 'Number of mass shootings']]\n",
    "data.head()"
   ]
  },
  {
   "cell_type": "code",
   "execution_count": 11,
   "metadata": {
    "collapsed": false
   },
   "outputs": [
    {
     "data": {
      "text/html": [
       "<div>\n",
       "<table border=\"1\" class=\"dataframe\">\n",
       "  <thead>\n",
       "    <tr style=\"text-align: right;\">\n",
       "      <th></th>\n",
       "      <th>Country</th>\n",
       "      <th>Pop</th>\n",
       "      <th>GDP</th>\n",
       "      <th>Average total all civilian firearms</th>\n",
       "      <th>Number of homicides by firearm</th>\n",
       "      <th>Guns/100 inhabitants_x</th>\n",
       "      <th>Number of mass shootings</th>\n",
       "    </tr>\n",
       "  </thead>\n",
       "  <tbody>\n",
       "    <tr>\n",
       "      <th>17</th>\n",
       "      <td>New Zealand</td>\n",
       "      <td>4408100.0</td>\n",
       "      <td>1.761930e+11</td>\n",
       "      <td>925000.0</td>\n",
       "      <td>7.0</td>\n",
       "      <td>22.6</td>\n",
       "      <td>3</td>\n",
       "    </tr>\n",
       "    <tr>\n",
       "      <th>18</th>\n",
       "      <td>Poland</td>\n",
       "      <td>38063164.0</td>\n",
       "      <td>5.003440e+11</td>\n",
       "      <td>510000.0</td>\n",
       "      <td>35.0</td>\n",
       "      <td>1.3</td>\n",
       "      <td>0</td>\n",
       "    </tr>\n",
       "    <tr>\n",
       "      <th>19</th>\n",
       "      <td>Portugal</td>\n",
       "      <td>10514844.0</td>\n",
       "      <td>2.163680e+11</td>\n",
       "      <td>900000.0</td>\n",
       "      <td>44.0</td>\n",
       "      <td>8.5</td>\n",
       "      <td>1</td>\n",
       "    </tr>\n",
       "    <tr>\n",
       "      <th>20</th>\n",
       "      <td>Sweden</td>\n",
       "      <td>9519374.0</td>\n",
       "      <td>5.438810e+11</td>\n",
       "      <td>2800000.0</td>\n",
       "      <td>37.0</td>\n",
       "      <td>31.6</td>\n",
       "      <td>2</td>\n",
       "    </tr>\n",
       "    <tr>\n",
       "      <th>21</th>\n",
       "      <td>United States</td>\n",
       "      <td>313998379.0</td>\n",
       "      <td>1.615530e+13</td>\n",
       "      <td>270000000.0</td>\n",
       "      <td>9146.0</td>\n",
       "      <td>88.8</td>\n",
       "      <td>78</td>\n",
       "    </tr>\n",
       "  </tbody>\n",
       "</table>\n",
       "</div>"
      ],
      "text/plain": [
       "          Country          Pop           GDP  \\\n",
       "17    New Zealand    4408100.0  1.761930e+11   \n",
       "18         Poland   38063164.0  5.003440e+11   \n",
       "19       Portugal   10514844.0  2.163680e+11   \n",
       "20         Sweden    9519374.0  5.438810e+11   \n",
       "21  United States  313998379.0  1.615530e+13   \n",
       "\n",
       "    Average total all civilian firearms  Number of homicides by firearm  \\\n",
       "17                             925000.0                             7.0   \n",
       "18                             510000.0                            35.0   \n",
       "19                             900000.0                            44.0   \n",
       "20                            2800000.0                            37.0   \n",
       "21                          270000000.0                          9146.0   \n",
       "\n",
       "    Guns/100 inhabitants_x  Number of mass shootings  \n",
       "17                    22.6                         3  \n",
       "18                     1.3                         0  \n",
       "19                     8.5                         1  \n",
       "20                    31.6                         2  \n",
       "21                    88.8                        78  "
      ]
     },
     "execution_count": 11,
     "metadata": {},
     "output_type": "execute_result"
    }
   ],
   "source": [
    "data.tail()"
   ]
  },
  {
   "cell_type": "markdown",
   "metadata": {},
   "source": [
    "# Plot mass shooting vs gdp in absolute numbers, and per person"
   ]
  },
  {
   "cell_type": "code",
   "execution_count": 12,
   "metadata": {
    "collapsed": false
   },
   "outputs": [
    {
     "data": {
      "image/png": "[encoded data removed]",
      "text/plain": [
       "<matplotlib.figure.Figure at 0x7fba0ff9d1d0>"
      ]
     },
     "metadata": {},
     "output_type": "display_data"
    },
    {
     "name": "stdout",
     "output_type": "stream",
     "text": [
      "Number of mass shooting vs GDP, errors represent Poisson statistics.\n",
      "The datapoint to the top right of the plot is the USA, which has both the highest GDP and the highest number of mass shootings\n"
     ]
    }
   ],
   "source": [
    "fig = pl.figure(figsize=(10,5)) \n",
    "ax = fig.add_subplot(111)\n",
    "\n",
    "scatter = ax.scatter(data.GDP / 1e9, data['Number of mass shootings'])\n",
    "ax.errorbar(data.GDP / 1e9, data['Number of mass shootings'], \n",
    "            yerr = np.sqrt(data['Number of mass shootings'] * 1.0), fmt = '.')\n",
    "ax.set_xlabel(\"GDP (in billions)\")\n",
    "ax.set_ylabel(\"Number of mass shooting per person\")\n",
    "ax.set_ylim()\n",
    "pl.show()\n",
    "print (\"Number of mass shooting vs GDP, \" + \n",
    "       \"errors represent Poisson statistics.\\n\" + \n",
    "       \"The datapoint to the top right of the plot is the USA, \" + \n",
    "       \"which has both the highest GDP and the highest number of mass shootings\")"
   ]
  },
  {
   "cell_type": "markdown",
   "metadata": {},
   "source": [
    "# Find the average number of civilian fire arms per person\n"
   ]
  },
  {
   "cell_type": "code",
   "execution_count": 14,
   "metadata": {
    "collapsed": false
   },
   "outputs": [],
   "source": [
    "data['shootingspp'] = data[\"Number of mass shootings\"] / data['Pop'] * 1000"
   ]
  },
  {
   "cell_type": "markdown",
   "metadata": {},
   "source": [
    "# Plot the average number of homicide by firearm per person"
   ]
  },
  {
   "cell_type": "code",
   "execution_count": 13,
   "metadata": {
    "collapsed": false
   },
   "outputs": [
    {
     "data": {
      "text/plain": [
       "<matplotlib.text.Text at 0x7fba10431810>"
      ]
     },
     "execution_count": 13,
     "metadata": {},
     "output_type": "execute_result"
    },
    {
     "data": {
      "image/png": "[encoded data removed]",
      "text/plain": [
       "<matplotlib.figure.Figure at 0x7fba0fec7d90>"
      ]
     },
     "metadata": {},
     "output_type": "display_data"
    }
   ],
   "source": [
    "fig, ax = plt.subplots()\n",
    "ax.hist(data['Number of homicides by firearm'] / data['Pop'] * 1000)\n",
    "ax.set_xlabel('homicides by firearm per 1000 people')"
   ]
  },
  {
   "cell_type": "markdown",
   "metadata": {},
   "source": [
    "# GDP by average number of homicide by firearm per person"
   ]
  },
  {
   "cell_type": "code",
   "execution_count": 15,
   "metadata": {
    "collapsed": false
   },
   "outputs": [
    {
     "data": {
      "image/png": "[encoded data removed]",
      "text/plain": [
       "<matplotlib.figure.Figure at 0x7fba0dced1d0>"
      ]
     },
     "metadata": {},
     "output_type": "display_data"
    },
    {
     "name": "stdout",
     "output_type": "stream",
     "text": [
      "Number of homicides by firearms vs GDP, errors represent Poisson statistics.\n",
      "The datapoint to the top right of the plot is the USA, which has noth the highest GDP and the highest number of homicides by firearms\n"
     ]
    }
   ],
   "source": [
    "\n",
    "fig = pl.figure(figsize=(10,5)) \n",
    "ax = fig.add_subplot(111)\n",
    "\n",
    "scatter = ax.scatter(data.GDP / 1e9, data['Number of homicides by firearm'])\n",
    "ax.errorbar(data.GDP / 1e9, data['Number of homicides by firearm'], \n",
    "            yerr = np.sqrt(data['Number of homicides by firearm'] * 1.0), fmt = '.')\n",
    "ax.set_xlabel(\"GDP (in billions)\")\n",
    "ax.set_ylabel(\"Homicides by firearm per 1000 people\")\n",
    "ax.set_ylim()\n",
    "pl.show()\n",
    "\n",
    "print (\"Number of homicides by firearms vs GDP, \" + \n",
    "       \"errors represent Poisson statistics.\\n\" + \n",
    "       \"The datapoint to the top right of the plot is the USA, \" + \n",
    "       \"which has noth the highest GDP and the highest number of homicides by firearms\")"
   ]
  },
  {
   "cell_type": "markdown",
   "metadata": {},
   "source": [
    "## Plot the number of homicides by fire arm against the number of civilian firearms"
   ]
  },
  {
   "cell_type": "code",
   "execution_count": 16,
   "metadata": {
    "collapsed": false
   },
   "outputs": [
    {
     "data": {
      "image/png": "[encoded data removed]",
      "text/plain": [
       "<matplotlib.figure.Figure at 0x7fba0dbc4450>"
      ]
     },
     "metadata": {},
     "output_type": "display_data"
    }
   ],
   "source": [
    "# first plot \n",
    "fig = pl.figure(figsize=(10,5)) \n",
    "\n",
    "ax2 = fig.add_subplot(121)\n",
    "scatter = ax2.scatter(data['Average total all civilian firearms'], data['Number of homicides by firearm'])\n",
    "scatterUSA = ax2.scatter(data['Average total all civilian firearms'][21], data['Number of homicides by firearm'][21], c='r')\n",
    "\n",
    "ax2.set_xlabel(\"Average total all civilian firearms\")\n",
    "ax2.set_ylabel(\"Homicides by firearm per 1000 people\")\n",
    "ax2.set_ylim()\n",
    "\n",
    "# second plot\n",
    "ax1 = fig.add_subplot(122)\n",
    "scatter = ax1.scatter(data['Average total all civilian firearms'], data['Number of homicides by firearm'])\n",
    "scatterUSA = ax1.scatter(data['Average total all civilian firearms'][21], data['Number of homicides by firearm'][21], c='r')\n",
    "\n",
    "ax1.errorbar(data['Average total all civilian firearms'], data['Number of homicides by firearm'],\n",
    "        yerr = np.sqrt(data['Number of homicides by firearm'] * 1.0), fmt = '.')\n",
    "#         xerr = np.sqrt(data['Average total all civilian firearms'] * 1.0), fmt = '.')\n",
    "ax1.errorbar(data['Average total all civilian firearms'][21], data['Number of homicides by firearm'][21], \n",
    "        yerr = np.sqrt(data['Number of homicides by firearm'][21] * 1.0), fmt = '.', c='r')\n",
    "#         xerr = np.sqrt(data['Average total all civilian firearms'] * 1.0), fmt = '.')\n",
    "    \n",
    "ax1.set_xlabel(\"Average total all civilian firearms\")\n",
    "ax1.set_ylabel(\"Homicides by firearm per 1000 people\")\n",
    "ax1.set_ylim()\n",
    "pl.show()\n",
    "\n"
   ]
  },
  {
   "cell_type": "markdown",
   "metadata": {},
   "source": [
    "## Plot the number of mass shootings against the number of civilian firearms"
   ]
  },
  {
   "cell_type": "code",
   "execution_count": 17,
   "metadata": {
    "collapsed": false
   },
   "outputs": [
    {
     "data": {
      "image/png": "[encoded data removed]",
      "text/plain": [
       "<matplotlib.figure.Figure at 0x7fba0daa4350>"
      ]
     },
     "metadata": {},
     "output_type": "display_data"
    }
   ],
   "source": [
    "fig = pl.figure(figsize=(10,5)) \n",
    "\n",
    "# without error bands\n",
    "ax = fig.add_subplot(121)\n",
    "scatter = ax.scatter(data['Average total all civilian firearms'], data['Number of mass shootings'])\n",
    "scatterUSA = ax.scatter(data['Average total all civilian firearms'][21], data['Number of mass shootings'][21], c='r')\n",
    "ax.set_xlabel(\"Average total all civilian firearms\")\n",
    "ax.set_ylabel(\"Mass shootings\")\n",
    "ax.set_ylim()\n",
    "\n",
    "# with error bands\n",
    "ax1 = fig.add_subplot(122)\n",
    "scatter = ax1.scatter(data['Average total all civilian firearms'], data['Number of mass shootings'])\n",
    "scatterUSA = ax1.scatter(data['Average total all civilian firearms'][21], data['Number of mass shootings'][21], c='r')\n",
    "ax1.errorbar(data['Average total all civilian firearms'], data['Number of mass shootings'], \n",
    "            yerr = np.sqrt(data['Number of homicides by firearm'] * 1.0), fmt = '.')\n",
    "ax1.errorbar(data['Average total all civilian firearms'][21], data['Number of mass shootings'][21], \n",
    "            yerr = np.sqrt(data['Number of homicides by firearm'][21] * 1.0), fmt = '.', c='r')\n",
    "ax1.set_xlabel(\"Average total all civilian firearms\")\n",
    "ax1.set_ylabel(\"Mass shootings\")\n",
    "ax1.set_ylim()\n",
    "pl.show()"
   ]
  },
  {
   "cell_type": "markdown",
   "metadata": {},
   "source": [
    "# Modeling\n",
    "Fit a line to the Number of mass shootings per person as a function of Average total all civilian firearms per person."
   ]
  },
  {
   "cell_type": "markdown",
   "metadata": {},
   "source": [
    "# Modeling with OLS"
   ]
  },
  {
   "cell_type": "code",
   "execution_count": 18,
   "metadata": {
    "collapsed": false
   },
   "outputs": [
    {
     "data": {
      "text/plain": [
       "<matplotlib.text.Text at 0x7fba0a5199d0>"
      ]
     },
     "execution_count": 18,
     "metadata": {},
     "output_type": "execute_result"
    },
    {
     "data": {
      "image/png": "[encoded data removed]",
      "text/plain": [
       "<matplotlib.figure.Figure at 0x7fba0d823c90>"
      ]
     },
     "metadata": {},
     "output_type": "display_data"
    }
   ],
   "source": [
    "import statsmodels.api as sm\n",
    "fig = pl.figure(figsize=(10,5)) \n",
    "\n",
    "# let's check it out, with error bars\n",
    "ax = fig.add_subplot(121)\n",
    "x = data['Average total all civilian firearms']/ data[\"Pop\"]\n",
    "y = data['Number of mass shootings'] * 1e6 / data[\"Pop\"]\n",
    "omodel = sm.OLS(y, x).fit()\n",
    "\n",
    "pl.plot(x, omodel.fittedvalues, '-', alpha=.5)\n",
    "pl.errorbar(x, y, yerr=np.abs(y)**0.5, fmt='.')\n",
    "pl.plot(x,y, 'o')\n",
    "\n",
    "pl.title('Mass shooting as a function of civilian firearms')\n",
    "pl.xlabel('Average total all civilian firearms')\n",
    "pl.ylabel('Number of mass shootings')\n",
    "\n",
    "# take out USA, the outlier to see what's going on \n",
    "ax1 = fig.add_subplot(122)\n",
    "x1 = data['Average total all civilian firearms'][:21]/ data[\"Pop\"]\n",
    "y1 = data['Number of mass shootings'][:21] * 1e6 / data[\"Pop\"]\n",
    "omodel_1 = sm.OLS(y1, x1).fit()\n",
    "\n",
    "pl.plot(x1, omodel_1.fittedvalues, '-', alpha=.5)\n",
    "pl.errorbar(x1, y1, yerr=np.abs(y1)**0.5, fmt='.')\n",
    "pl.plot(x1, y1, 'o')\n",
    "\n",
    "pl.title('Mass shooting as a function of' \n",
    "         '\\n civilian firearms (w/o USA)')\n",
    "pl.xlabel('Average total all civilian firearms')\n",
    "pl.ylabel('Number of mass shootings')\n",
    "\n"
   ]
  },
  {
   "cell_type": "code",
   "execution_count": 19,
   "metadata": {
    "collapsed": false
   },
   "outputs": [
    {
     "data": {
      "text/html": [
       "<table class=\"simpletable\">\n",
       "<caption>OLS Regression Results</caption>\n",
       "<tr>\n",
       "  <th>Dep. Variable:</th>            <td>y</td>        <th>  R-squared:         </th> <td>   0.479</td>\n",
       "</tr>\n",
       "<tr>\n",
       "  <th>Model:</th>                   <td>OLS</td>       <th>  Adj. R-squared:    </th> <td>   0.454</td>\n",
       "</tr>\n",
       "<tr>\n",
       "  <th>Method:</th>             <td>Least Squares</td>  <th>  F-statistic:       </th> <td>   19.31</td>\n",
       "</tr>\n",
       "<tr>\n",
       "  <th>Date:</th>             <td>Tue, 17 Oct 2017</td> <th>  Prob (F-statistic):</th> <td>0.000253</td>\n",
       "</tr>\n",
       "<tr>\n",
       "  <th>Time:</th>                 <td>14:04:48</td>     <th>  Log-Likelihood:    </th> <td>  11.220</td>\n",
       "</tr>\n",
       "<tr>\n",
       "  <th>No. Observations:</th>      <td>    22</td>      <th>  AIC:               </th> <td>  -20.44</td>\n",
       "</tr>\n",
       "<tr>\n",
       "  <th>Df Residuals:</th>          <td>    21</td>      <th>  BIC:               </th> <td>  -19.35</td>\n",
       "</tr>\n",
       "<tr>\n",
       "  <th>Df Model:</th>              <td>     1</td>      <th>                     </th>     <td> </td>   \n",
       "</tr>\n",
       "<tr>\n",
       "  <th>Covariance Type:</th>      <td>nonrobust</td>    <th>                     </th>     <td> </td>   \n",
       "</tr>\n",
       "</table>\n",
       "<table class=\"simpletable\">\n",
       "<tr>\n",
       "   <td></td>     <th>coef</th>     <th>std err</th>      <th>t</th>      <th>P>|t|</th> <th>[95.0% Conf. Int.]</th> \n",
       "</tr>\n",
       "<tr>\n",
       "  <th>x1</th> <td>    0.4748</td> <td>    0.108</td> <td>    4.394</td> <td> 0.000</td> <td>    0.250     0.700</td>\n",
       "</tr>\n",
       "</table>\n",
       "<table class=\"simpletable\">\n",
       "<tr>\n",
       "  <th>Omnibus:</th>       <td>33.992</td> <th>  Durbin-Watson:     </th> <td>   1.779</td>\n",
       "</tr>\n",
       "<tr>\n",
       "  <th>Prob(Omnibus):</th> <td> 0.000</td> <th>  Jarque-Bera (JB):  </th> <td>  85.045</td>\n",
       "</tr>\n",
       "<tr>\n",
       "  <th>Skew:</th>          <td> 2.646</td> <th>  Prob(JB):          </th> <td>3.41e-19</td>\n",
       "</tr>\n",
       "<tr>\n",
       "  <th>Kurtosis:</th>      <td>11.048</td> <th>  Cond. No.          </th> <td>    1.00</td>\n",
       "</tr>\n",
       "</table>"
      ],
      "text/plain": [
       "<class 'statsmodels.iolib.summary.Summary'>\n",
       "\"\"\"\n",
       "                            OLS Regression Results                            \n",
       "==============================================================================\n",
       "Dep. Variable:                      y   R-squared:                       0.479\n",
       "Model:                            OLS   Adj. R-squared:                  0.454\n",
       "Method:                 Least Squares   F-statistic:                     19.31\n",
       "Date:                Tue, 17 Oct 2017   Prob (F-statistic):           0.000253\n",
       "Time:                        14:04:48   Log-Likelihood:                 11.220\n",
       "No. Observations:                  22   AIC:                            -20.44\n",
       "Df Residuals:                      21   BIC:                            -19.35\n",
       "Df Model:                           1                                         \n",
       "Covariance Type:            nonrobust                                         \n",
       "==============================================================================\n",
       "                 coef    std err          t      P>|t|      [95.0% Conf. Int.]\n",
       "------------------------------------------------------------------------------\n",
       "x1             0.4748      0.108      4.394      0.000         0.250     0.700\n",
       "==============================================================================\n",
       "Omnibus:                       33.992   Durbin-Watson:                   1.779\n",
       "Prob(Omnibus):                  0.000   Jarque-Bera (JB):               85.045\n",
       "Skew:                           2.646   Prob(JB):                     3.41e-19\n",
       "Kurtosis:                      11.048   Cond. No.                         1.00\n",
       "==============================================================================\n",
       "\n",
       "Warnings:\n",
       "[1] Standard Errors assume that the covariance matrix of the errors is correctly specified.\n",
       "\"\"\""
      ]
     },
     "execution_count": 19,
     "metadata": {},
     "output_type": "execute_result"
    }
   ],
   "source": [
    "omodel.summary()"
   ]
  },
  {
   "cell_type": "markdown",
   "metadata": {
    "collapsed": true
   },
   "source": [
    "# Modeling with WLS"
   ]
  },
  {
   "cell_type": "code",
   "execution_count": 20,
   "metadata": {
    "collapsed": false
   },
   "outputs": [
    {
     "data": {
      "text/plain": [
       "0     0.112278\n",
       "1    -0.022180\n",
       "2    -0.020839\n",
       "3     0.048233\n",
       "4    -0.060550\n",
       "5    -0.055193\n",
       "6    -0.024299\n",
       "7     0.158941\n",
       "8    -0.046010\n",
       "9    -0.107467\n",
       "10   -0.026802\n",
       "11   -0.037264\n",
       "12   -0.133237\n",
       "13   -0.055821\n",
       "14   -0.002641\n",
       "15   -0.062597\n",
       "16    0.066810\n",
       "17    0.580935\n",
       "18   -0.006362\n",
       "19    0.054465\n",
       "20    0.070444\n",
       "21   -0.159853\n",
       "dtype: float64"
      ]
     },
     "execution_count": 20,
     "metadata": {},
     "output_type": "execute_result"
    }
   ],
   "source": [
    "omodel.resid"
   ]
  },
  {
   "cell_type": "code",
   "execution_count": 21,
   "metadata": {
    "collapsed": false
   },
   "outputs": [
    {
     "data": {
      "text/plain": [
       "<matplotlib.text.Text at 0x7fba6d7ae710>"
      ]
     },
     "execution_count": 21,
     "metadata": {},
     "output_type": "execute_result"
    },
    {
     "data": {
      "image/png": "[encoded data removed]",
      "text/plain": [
       "<matplotlib.figure.Figure at 0x7fba0a5fdad0>"
      ]
     },
     "metadata": {},
     "output_type": "display_data"
    }
   ],
   "source": [
    "fig = pl.figure(figsize=(10,5)) \n",
    "\n",
    "# y error is the sqt of y\n",
    "yerr = np.abs(y)**0.5\n",
    "\n",
    "# endog and exog are parameters for wls and ols. weighting helps the fit. ols doesn't have a weight parameter.\n",
    "# wmodel = sm.WLS(y, x, weights = 1/(yerr+1)).fit()\n",
    "\n",
    "ax = fig.add_subplot(121)\n",
    "wmodel = sm.WLS(y, x, weights = 1/(yerr+1)).fit()\n",
    "\n",
    "pl.plot(x, wmodel.fittedvalues, '-', alpha=.5)\n",
    "pl.errorbar(x, y, yerr=np.abs(y)**0.5, fmt='.')\n",
    "pl.plot(x,y, 'o')\n",
    "\n",
    "pl.title('Mass shooting as a function'  \n",
    "         '\\nof civilian firearms (w/ USA)')\n",
    "pl.xlabel('Average civilian firearms')\n",
    "pl.ylabel('Number of mass shootings')\n",
    "\n",
    "# take out USA, the outlier to see what's going on \n",
    "ax1 = fig.add_subplot(122)\n",
    "yerr1 = np.abs(y1)**0.05\n",
    "wmodel_1 = sm.WLS(y1, x1, weights = 1/(yerr1+1)).fit()\n",
    "\n",
    "pl.plot(x1, wmodel_1.fittedvalues, '-', alpha=.5)\n",
    "pl.errorbar(x1, y1, yerr=np.abs(y1)**0.5, fmt='.')\n",
    "pl.plot(x1, y1, 'o')\n",
    "\n",
    "pl.title('Mass shooting as a function'\n",
    "         '\\nof civilian firearms (w/o USA)')\n",
    "pl.xlabel('Average civilian firearms')\n",
    "pl.ylabel('Number of mass shootings')\n"
   ]
  },
  {
   "cell_type": "code",
   "execution_count": 22,
   "metadata": {
    "collapsed": false
   },
   "outputs": [
    {
     "data": {
      "text/html": [
       "<table class=\"simpletable\">\n",
       "<caption>WLS Regression Results</caption>\n",
       "<tr>\n",
       "  <th>Dep. Variable:</th>            <td>y</td>        <th>  R-squared:         </th> <td>   0.478</td>\n",
       "</tr>\n",
       "<tr>\n",
       "  <th>Model:</th>                   <td>WLS</td>       <th>  Adj. R-squared:    </th> <td>   0.453</td>\n",
       "</tr>\n",
       "<tr>\n",
       "  <th>Method:</th>             <td>Least Squares</td>  <th>  F-statistic:       </th> <td>   19.25</td>\n",
       "</tr>\n",
       "<tr>\n",
       "  <th>Date:</th>             <td>Tue, 17 Oct 2017</td> <th>  Prob (F-statistic):</th> <td>0.000257</td>\n",
       "</tr>\n",
       "<tr>\n",
       "  <th>Time:</th>                 <td>14:04:52</td>     <th>  Log-Likelihood:    </th> <td>  14.450</td>\n",
       "</tr>\n",
       "<tr>\n",
       "  <th>No. Observations:</th>      <td>    22</td>      <th>  AIC:               </th> <td>  -26.90</td>\n",
       "</tr>\n",
       "<tr>\n",
       "  <th>Df Residuals:</th>          <td>    21</td>      <th>  BIC:               </th> <td>  -25.81</td>\n",
       "</tr>\n",
       "<tr>\n",
       "  <th>Df Model:</th>              <td>     1</td>      <th>                     </th>     <td> </td>   \n",
       "</tr>\n",
       "<tr>\n",
       "  <th>Covariance Type:</th>      <td>nonrobust</td>    <th>                     </th>     <td> </td>   \n",
       "</tr>\n",
       "</table>\n",
       "<table class=\"simpletable\">\n",
       "<tr>\n",
       "   <td></td>     <th>coef</th>     <th>std err</th>      <th>t</th>      <th>P>|t|</th> <th>[95.0% Conf. Int.]</th> \n",
       "</tr>\n",
       "<tr>\n",
       "  <th>x1</th> <td>    0.4379</td> <td>    0.100</td> <td>    4.388</td> <td> 0.000</td> <td>    0.230     0.645</td>\n",
       "</tr>\n",
       "</table>\n",
       "<table class=\"simpletable\">\n",
       "<tr>\n",
       "  <th>Omnibus:</th>       <td>29.077</td> <th>  Durbin-Watson:     </th> <td>   1.732</td>\n",
       "</tr>\n",
       "<tr>\n",
       "  <th>Prob(Omnibus):</th> <td> 0.000</td> <th>  Jarque-Bera (JB):  </th> <td>  58.186</td>\n",
       "</tr>\n",
       "<tr>\n",
       "  <th>Skew:</th>          <td> 2.328</td> <th>  Prob(JB):          </th> <td>2.32e-13</td>\n",
       "</tr>\n",
       "<tr>\n",
       "  <th>Kurtosis:</th>      <td> 9.465</td> <th>  Cond. No.          </th> <td>    1.00</td>\n",
       "</tr>\n",
       "</table>"
      ],
      "text/plain": [
       "<class 'statsmodels.iolib.summary.Summary'>\n",
       "\"\"\"\n",
       "                            WLS Regression Results                            \n",
       "==============================================================================\n",
       "Dep. Variable:                      y   R-squared:                       0.478\n",
       "Model:                            WLS   Adj. R-squared:                  0.453\n",
       "Method:                 Least Squares   F-statistic:                     19.25\n",
       "Date:                Tue, 17 Oct 2017   Prob (F-statistic):           0.000257\n",
       "Time:                        14:04:52   Log-Likelihood:                 14.450\n",
       "No. Observations:                  22   AIC:                            -26.90\n",
       "Df Residuals:                      21   BIC:                            -25.81\n",
       "Df Model:                           1                                         \n",
       "Covariance Type:            nonrobust                                         \n",
       "==============================================================================\n",
       "                 coef    std err          t      P>|t|      [95.0% Conf. Int.]\n",
       "------------------------------------------------------------------------------\n",
       "x1             0.4379      0.100      4.388      0.000         0.230     0.645\n",
       "==============================================================================\n",
       "Omnibus:                       29.077   Durbin-Watson:                   1.732\n",
       "Prob(Omnibus):                  0.000   Jarque-Bera (JB):               58.186\n",
       "Skew:                           2.328   Prob(JB):                     2.32e-13\n",
       "Kurtosis:                       9.465   Cond. No.                         1.00\n",
       "==============================================================================\n",
       "\n",
       "Warnings:\n",
       "[1] Standard Errors assume that the covariance matrix of the errors is correctly specified.\n",
       "\"\"\""
      ]
     },
     "execution_count": 22,
     "metadata": {},
     "output_type": "execute_result"
    }
   ],
   "source": [
    "wmodel.summary()"
   ]
  },
  {
   "cell_type": "markdown",
   "metadata": {},
   "source": [
    "# Seaborn"
   ]
  },
  {
   "cell_type": "code",
   "execution_count": 23,
   "metadata": {
    "collapsed": false
   },
   "outputs": [
    {
     "name": "stderr",
     "output_type": "stream",
     "text": [
      "/opt/rh/anaconda/root/envs/PUI2016_Python2/lib/python2.7/site-packages/IPython/html.py:14: ShimWarning: The `IPython.html` package has been deprecated. You should import from `notebook` instead. `IPython.html.widgets` has moved to `ipywidgets`.\n",
      "  \"`IPython.html.widgets` has moved to `ipywidgets`.\", ShimWarning)\n"
     ]
    },
    {
     "data": {
      "text/plain": [
       "<matplotlib.text.Text at 0x7fba6c899610>"
      ]
     },
     "execution_count": 23,
     "metadata": {},
     "output_type": "execute_result"
    },
    {
     "data": {
      "image/png": "[encoded data removed]",
      "text/plain": [
       "<matplotlib.figure.Figure at 0x7fba0ff72310>"
      ]
     },
     "metadata": {},
     "output_type": "display_data"
    }
   ],
   "source": [
    "import seaborn  as sns\n",
    "\n",
    "fig = pl.figure(figsize=(10,5)) \n",
    "\n",
    "ax = fig.add_subplot(121)\n",
    "sns.regplot(x, y, data=data);\n",
    "pl.ylabel(\"Mass shootings\")\n",
    "pl.xlabel(\"Fire arms\");\n",
    "pl.title('Mass shooting as a function'\n",
    "         '\\nof civilian firearms (w/ USA)')\n",
    "\n",
    "ax1 = fig.add_subplot(122)\n",
    "sns.regplot(x1, y1, data=data);\n",
    "pl.ylabel(\"Mass shootings\")\n",
    "pl.xlabel(\"Fire arms\");\n",
    "pl.title('Mass shooting as a function'\n",
    "         '\\nof civilian firearms (w/o USA)')"
   ]
  },
  {
   "cell_type": "markdown",
   "metadata": {},
   "source": [
    "# numpy.ployfit"
   ]
  },
  {
   "cell_type": "code",
   "execution_count": 24,
   "metadata": {
    "collapsed": false
   },
   "outputs": [
    {
     "data": {
      "text/plain": [
       "<matplotlib.text.Text at 0x7fba6c72aa50>"
      ]
     },
     "execution_count": 24,
     "metadata": {},
     "output_type": "execute_result"
    },
    {
     "data": {
      "image/png": "[encoded data removed]",
      "text/plain": [
       "<matplotlib.figure.Figure at 0x7fba6c765590>"
      ]
     },
     "metadata": {},
     "output_type": "display_data"
    }
   ],
   "source": [
    "# https://docs.scipy.org/doc/numpy-1.13.0/reference/generated/numpy.polyfit.html\n",
    "\n",
    "# these two numbers are the coefficients - slope and intercept\n",
    "\n",
    "fig = pl.figure(figsize=(10,5))\n",
    "\n",
    "ax = fig.add_subplot(121)\n",
    "func = np.polyfit(x, y, 1)\n",
    "yfunc = func[0] * x + func[1]\n",
    "pl.plot(x,yfunc, '-')\n",
    "pl.plot(x,y, '.')\n",
    "pl.ylabel(\"Mass shootings\")\n",
    "pl.xlabel(\"Fire arms\");\n",
    "pl.title('Mass shooting as a function'\n",
    "         '\\nof civilian firearms (w/ USA)')\n",
    "\n",
    "# # this line created by the coef is similar to our other models, but generated in a different way"
   ]
  },
  {
   "cell_type": "markdown",
   "metadata": {},
   "source": [
    "# Use the stsatsmodels.gaphics package to plot the influence plot"
   ]
  },
  {
   "cell_type": "code",
   "execution_count": 25,
   "metadata": {
    "collapsed": false
   },
   "outputs": [
    {
     "data": {
      "image/png": "[encoded data removed]",
      "text/plain": [
       "<matplotlib.figure.Figure at 0x7fba0dcaccd0>"
      ]
     },
     "metadata": {},
     "output_type": "display_data"
    }
   ],
   "source": [
    "sm.graphics.influence_plot(omodel, alpha  = 0.05, criterion=\"cooks\");\n"
   ]
  },
  {
   "cell_type": "code",
   "execution_count": null,
   "metadata": {
    "collapsed": true
   },
   "outputs": [],
   "source": []
  },
  {
   "cell_type": "code",
   "execution_count": null,
   "metadata": {
    "collapsed": true
   },
   "outputs": [],
   "source": []
  }
 ],
 "metadata": {
  "kernelspec": {
   "display_name": "PUI2016_Python2",
   "language": "python",
   "name": "pui2016_python2"
  },
  "language_info": {
   "codemirror_mode": {
    "name": "ipython",
    "version": 2
   },
   "file_extension": ".py",
   "mimetype": "text/x-python",
   "name": "python",
   "nbconvert_exporter": "python",
   "pygments_lexer": "ipython2",
   "version": "2.7.12"
  }
 },
 "nbformat": 4,
 "nbformat_minor": 0
}
