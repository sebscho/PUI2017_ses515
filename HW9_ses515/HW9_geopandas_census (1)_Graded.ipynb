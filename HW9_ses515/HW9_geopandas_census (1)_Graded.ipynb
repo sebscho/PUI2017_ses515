{
 "cells": [
  {
   "cell_type": "markdown",
   "metadata": {},
   "source": [
    "## HW9: Geopandas\n",
    "This notebook is designed to pratice with both geopandas and census data.  This is a simple spatial exploratory analysis of census data. The goal is to assess wheather the location of the [linkNYC](https://www.link.nyc/) access points is optimal to guarantee a more \"democratic\" access to the internet."
   ]
  },
  {
   "cell_type": "code",
   "execution_count": 1,
   "metadata": {},
   "outputs": [],
   "source": [
    "import urllib\n",
    "import requests\n",
    "import json\n",
    "import io\n",
    "import numpy as np\n",
    "import pandas as pd\n",
    "from pandas import DataFrame\n",
    "import matplotlib.pylab as plt\n",
    "import pylab as pl\n",
    "import os\n",
    "import shapely\n",
    "from fiona.crs import from_epsg\n",
    "from geopandas import GeoDataFrame\n",
    "import geopandas as gp\n",
    "from shapely.geometry import Point\n",
    "\n",
    "%matplotlib inline"
   ]
  },
  {
   "cell_type": "markdown",
   "metadata": {},
   "source": [
    "## 1. PUMA : Public Use Microdata Area\n",
    "\n",
    "\n",
    "### 1.1 download the NYC  Public Use Microdata Areas (PUMA) geometry fron the NYC Open Data API and read it in with geopandas"
   ]
  },
  {
   "cell_type": "code",
   "execution_count": 2,
   "metadata": {},
   "outputs": [
    {
     "name": "stdout",
     "output_type": "stream",
     "text": [
      "--2017-12-19 19:37:33--  http://www1.nyc.gov/assets/planning/download/zip/data-maps/open-data/nypuma_17d.zip\n",
      "Resolving www1.nyc.gov... 104.106.240.221, 2600:141b:13:297::1500, 2600:141b:13:292::1500\n",
      "Connecting to www1.nyc.gov|104.106.240.221|:80... connected.\n",
      "HTTP request sent, awaiting response... 200 OK\n",
      "Length: 761605 (744K) [application/zip]\n",
      "Saving to: “nypuma_17d.zip”\n",
      "\n",
      "100%[======================================>] 761,605     --.-K/s   in 0.03s   \n",
      "\n",
      "2017-12-19 19:37:33 (21.1 MB/s) - “nypuma_17d.zip” saved [761605/761605]\n",
      "\n",
      "mv nypuma_17d.zip /home/cusp/vmr286/PUIdata\n"
     ]
    }
   ],
   "source": [
    "# reading in data from url for reproducability\n",
    "!wget http://www1.nyc.gov/assets/planning/download/zip/data-maps/open-data/nypuma_17d.zip \n",
    "\n",
    "# unpack the data into PUIdata dircetory\n",
    "cmd = \"mv nypuma_17d.zip \" + os.getenv(\"PUIDATA\")\n",
    "\n",
    "#let's see it\n",
    "print (cmd)"
   ]
  },
  {
   "cell_type": "code",
   "execution_count": 3,
   "metadata": {},
   "outputs": [
    {
     "data": {
      "text/plain": [
       "0"
      ]
     },
     "execution_count": 3,
     "metadata": {},
     "output_type": "execute_result"
    }
   ],
   "source": [
    "# move \n",
    "os.system(cmd)"
   ]
  },
  {
   "cell_type": "code",
   "execution_count": 4,
   "metadata": {},
   "outputs": [
    {
     "name": "stdout",
     "output_type": "stream",
     "text": [
      "unzip:  cannot find or open nypuma_17d.zip, nypuma_17d.zip.zip or nypuma_17d.zip.ZIP.\n",
      "201401-citibike-tripdata.csv\n",
      "201401-citibike-tripdata.zip\n",
      "201501-citibike-tripdata.csv\n",
      "201501-citibike-tripdata.zip\n",
      "201502-citibike-tripdata.csv\n",
      "201502-citibike-tripdata.zip\n",
      "201503-citibike-tripdata.csv\n",
      "201503-citibike-tripdata.zip\n",
      "201504-citibike-tripdata.csv\n",
      "201504-citibike-tripdata.zip\n",
      "201505-citibike-tripdata.csv\n",
      "201505-citibike-tripdata.zip\n",
      "201506-citibike-tripdata.csv\n",
      "201506-citibike-tripdata.zip\n",
      "201507-citibike-tripdata.csv\n",
      "201507-citibike-tripdata.zip\n",
      "201508-citibike-tripdata.csv\n",
      "201508-citibike-tripdata.zip\n",
      "201601-citibike-tripdata.csv\n",
      "201601-citibike-tripdata.zip\n",
      "201602-citibike-tripdata.csv\n",
      "201602-citibike-tripdata.zip\n",
      "201603-citibike-tripdata.csv\n",
      "201603-citibike-tripdata.zip\n",
      "201604-citibike-tripdata.csv\n",
      "201604-citibike-tripdata.zip\n",
      "201606-citibike-tripdata.csv\n",
      "201606-citibike-tripdata.zip\n",
      "201607-citibike-tripdata.csv\n",
      "201607-citibike-tripdata.zip\n",
      "201608-citibike-tripdata.csv\n",
      "201608-citibike-tripdata.zip\n",
      "201610-citibike-tripdata.csv\n",
      "201610-citibike-tripdata.zip\n",
      "201612-citibike-tripdata.csv\n",
      "201612-citibike-tripdata.zip\n",
      "201701-citibike-tripdata.csv\n",
      "201701-citibike-tripdata.csv.zip\n",
      "201706-citibike-tripdata.csv.zip\n",
      "201707-citibike-tripdata.csv\n",
      "201707-citibike-tripdata.csv.zip\n",
      "ACS_16_1YR_GCT2801\n",
      "ACS_16_1YR_GCT2801.ST50_metadata.csv\n",
      "ACS_16_1YR_GCT2801.ST50.txt\n",
      "ACS_16_1YR_GCT2801.ST50_with_ann.csv\n",
      "ACS_16_1YR_GCT2801.ST50.zip\n",
      "aff_download_readme_ann.txt\n",
      "API_NY.GDP.MKTP.CD_DS2_en_csv_v2.csv\n",
      "API_SP.POP.TOTL_DS2_en_csv_v2.csv\n",
      "BK_Dcp_Mappinglot.dbf\n",
      "BK_Dcp_Mappinglot.prj\n",
      "BK_Dcp_Mappinglot.sbn\n",
      "BK_Dcp_Mappinglot.sbx\n",
      "BK_Dcp_Mappinglot.shp\n",
      "BK_Dcp_Mappinglot.shp.xml\n",
      "BK_Dcp_Mappinglot.shx\n",
      "BKMapPLUTO.BBL.atx\n",
      "BKMapPLUTO.CD.atx\n",
      "BKMapPLUTO.dbf\n",
      "BKMapPLUTO.LandUse.atx\n",
      "BKMapPLUTO.prj\n",
      "BKMapPLUTO.sbn\n",
      "BKMapPLUTO.sbx\n",
      "BKMapPLUTO.shp\n",
      "BKMapPLUTO.shp.xml\n",
      "BKMapPLUTO.shx\n",
      "BKMapPLUTO.ZoneDist1.atx\n",
      "bk_pluto.dbf\n",
      "bk_pluto.dbf.xml\n",
      "BoroughBoundaries.geojson\n",
      "BORO_zip_files_csv\n",
      "BX_Dcp_Mappinglot.dbf\n",
      "BX_Dcp_Mappinglot.prj\n",
      "BX_Dcp_Mappinglot.sbn\n",
      "BX_Dcp_Mappinglot.sbx\n",
      "BX_Dcp_Mappinglot.shp\n",
      "BX_Dcp_Mappinglot.shp.xml\n",
      "BX_Dcp_Mappinglot.shx\n",
      "BXMapPLUTO.BBL.atx\n",
      "BXMapPLUTO.CD.atx\n",
      "BXMapPLUTO.dbf\n",
      "BXMapPLUTO.LandUse.atx\n",
      "BXMapPLUTO.prj\n",
      "BXMapPLUTO.sbn\n",
      "BXMapPLUTO.sbx\n",
      "BXMapPLUTO.shp\n",
      "BXMapPLUTO.shp.xml\n",
      "BXMapPLUTO.shx\n",
      "BXMapPLUTO.ZoneDist1.atx\n",
      "bx_pluto.dbf\n",
      "bx_pluto.dbf.xml\n",
      "census_key.txt\n",
      "citibike\n",
      "data-pvLFI.csv\n",
      "Energy_and_Water_Data_Disclosure_for_Local_Law_84__2013_.csv\n",
      "Energy_and_Water_Data_Disclosure_for_Local_Law_84_2013.csv\n",
      "energyconsumption.csv\n",
      "energy.csv\n",
      "Energy_Water_Data.csv\n",
      "fbb_matplotlibrc.json\n",
      "file.gz\n",
      "files.gz\n",
      "file.zip\n",
      "firearm.csv\n",
      "Firearm.csv\n",
      "gdp.csv\n",
      "geo_export_1ee9bb26-b899-4e64-a822-4a5431515a30.dbf\n",
      "geo_export_1ee9bb26-b899-4e64-a822-4a5431515a30.prj\n",
      "geo_export_1ee9bb26-b899-4e64-a822-4a5431515a30.shp\n",
      "geo_export_1ee9bb26-b899-4e64-a822-4a5431515a30.shx\n",
      "geo_export_391d62ac-917a-4125-a045-f20803998933.dbf\n",
      "geo_export_391d62ac-917a-4125-a045-f20803998933.prj\n",
      "geo_export_391d62ac-917a-4125-a045-f20803998933.shp\n",
      "geo_export_391d62ac-917a-4125-a045-f20803998933.shx\n",
      "geo_export_41bb049c-14f6-48c7-98ed-8703f0e3d140.dbf\n",
      "geo_export_41bb049c-14f6-48c7-98ed-8703f0e3d140.prj\n",
      "geo_export_41bb049c-14f6-48c7-98ed-8703f0e3d140.shp\n",
      "geo_export_41bb049c-14f6-48c7-98ed-8703f0e3d140.shx\n",
      "geo_export_71c143e8-541a-4a4a-bb8e-d405bee37dbc.dbf\n",
      "geo_export_71c143e8-541a-4a4a-bb8e-d405bee37dbc.prj\n",
      "geo_export_71c143e8-541a-4a4a-bb8e-d405bee37dbc.shp\n",
      "geo_export_71c143e8-541a-4a4a-bb8e-d405bee37dbc.shx\n",
      "geo_export_732556d4-3dc8-46c9-ab8e-87de579172bc.dbf\n",
      "geo_export_732556d4-3dc8-46c9-ab8e-87de579172bc.prj\n",
      "geo_export_732556d4-3dc8-46c9-ab8e-87de579172bc.shp\n",
      "geo_export_732556d4-3dc8-46c9-ab8e-87de579172bc.shx\n",
      "geo_export_bfa62d3f-9e6a-4a94-8a37-4f4f7ad234d6.dbf\n",
      "geo_export_bfa62d3f-9e6a-4a94-8a37-4f4f7ad234d6.prj\n",
      "geo_export_bfa62d3f-9e6a-4a94-8a37-4f4f7ad234d6.shp\n",
      "geo_export_bfa62d3f-9e6a-4a94-8a37-4f4f7ad234d6.shx\n",
      "geo_export_cfdadd52-507f-4133-bf91-3aea1a36349f.dbf\n",
      "geo_export_cfdadd52-507f-4133-bf91-3aea1a36349f.prj\n",
      "geo_export_cfdadd52-507f-4133-bf91-3aea1a36349f.shp\n",
      "geo_export_cfdadd52-507f-4133-bf91-3aea1a36349f.shx\n",
      "geo_export_cffc43ac-f585-4808-bff5-a29c4f34f538.dbf\n",
      "geo_export_cffc43ac-f585-4808-bff5-a29c4f34f538.prj\n",
      "geo_export_cffc43ac-f585-4808-bff5-a29c4f34f538.shp\n",
      "geo_export_cffc43ac-f585-4808-bff5-a29c4f34f538.shx\n",
      "geo_export_d68c9602-ce0b-456c-ab21-ecb75b729f14.dbf\n",
      "geo_export_d68c9602-ce0b-456c-ab21-ecb75b729f14.prj\n",
      "geo_export_d68c9602-ce0b-456c-ab21-ecb75b729f14.shp\n",
      "geo_export_d68c9602-ce0b-456c-ab21-ecb75b729f14.shx\n",
      "geo_export_e928e565-eed0-4fd2-bd36-e7a219178db7.dbf\n",
      "geo_export_e928e565-eed0-4fd2-bd36-e7a219178db7.prj\n",
      "geo_export_e928e565-eed0-4fd2-bd36-e7a219178db7.shp\n",
      "geo_export_e928e565-eed0-4fd2-bd36-e7a219178db7.shx\n",
      "geo_export_f1a07df9-c649-4a71-b8fc-d1b5f1abc499.cpg\n",
      "geo_export_f1a07df9-c649-4a71-b8fc-d1b5f1abc499.dbf\n",
      "geo_export_f1a07df9-c649-4a71-b8fc-d1b5f1abc499.prj\n",
      "geo_export_f1a07df9-c649-4a71-b8fc-d1b5f1abc499.shp\n",
      "geo_export_f1a07df9-c649-4a71-b8fc-d1b5f1abc499.shx\n",
      "JC-201707-citibike-tripdata.zip\n",
      "linkNYClocations.csv\n",
      "linkNYCpp.cpg\n",
      "linkNYCpp.dbf\n",
      "linkNYCpp.prj\n",
      "linkNYCpp.shp\n",
      "linkNYCpp.shx\n",
      "LL84_2013.csv\n",
      "m46j-75iy.csv\n",
      "Manhattan\n",
      "mass%20shooting.csv\n",
      "massshoot.csv\n",
      "MN.csv\n",
      "MN_Dcp_Mappinglot.dbf\n",
      "MN_Dcp_Mappinglot.prj\n",
      "MN_Dcp_Mappinglot.sbn\n",
      "MN_Dcp_Mappinglot.sbx\n",
      "MN_Dcp_Mappinglot.shp\n",
      "MN_Dcp_Mappinglot.shp.xml\n",
      "MN_Dcp_Mappinglot.shx\n",
      "mn_mappluto\n",
      "mn_mappluto_16v2\n",
      "mn_mappluto_16v2.zip\n",
      "MNMapPLUTO.BBL.atx\n",
      "MNMapPLUTO.CD.atx\n",
      "MNMapPLUTO.dbf\n",
      "MNMapPLUTO.LandUse.atx\n",
      "MNMapPLUTO.prj\n",
      "MNMapPLUTO.sbn\n",
      "MNMapPLUTO.sbx\n",
      "MNMapPLUTO.shp\n",
      "MNMapPLUTO.shp.xml\n",
      "MNMapPLUTO.shx\n",
      "MNMapPLUTO.ZoneDist1.atx\n",
      "MNPLUTO\n",
      "mn_pluto.dbf\n",
      "mn_pluto.dbf.xml\n",
      "nyc_pluto_16v2%20.zip\n",
      "NYCPUMA\n",
      "NYC_PUMA_Shapefile\n",
      "NYC_PUMA_Shapes.zip\n",
      "NYC_ZIPBusinessData\n",
      "NYC_Zipcode_Shapefile\n",
      "nypuma_17d\n",
      "nypuma_17d.zip\n",
      "out.zip\n",
      "PLUTODD16v2.pdf\n",
      "pop.csv\n",
      "puma\n",
      "PUMA\n",
      "pumadata\n",
      "puma.gz\n",
      "pumashplc.cpg\n",
      "pumashplc.dbf\n",
      "pumashplc.prj\n",
      "pumashplc.shp\n",
      "pumashplc.shx\n",
      "puma.zip\n",
      "QN_Dcp_Mappinglot.dbf\n",
      "QN_Dcp_Mappinglot.prj\n",
      "QN_Dcp_Mappinglot.sbn\n",
      "QN_Dcp_Mappinglot.sbx\n",
      "QN_Dcp_Mappinglot.shp\n",
      "QN_Dcp_Mappinglot.shp.xml\n",
      "QN_Dcp_Mappinglot.shx\n",
      "QNMapPLUTO.BBL.atx\n",
      "QNMapPLUTO.CD.atx\n",
      "QNMapPLUTO.dbf\n",
      "QNMapPLUTO.LandUse.atx\n",
      "QNMapPLUTO.prj\n",
      "QNMapPLUTO.sbn\n",
      "QNMapPLUTO.sbx\n",
      "QNMapPLUTO.shp\n",
      "QNMapPLUTO.shp.xml\n",
      "QNMapPLUTO.shx\n",
      "QNMapPLUTO.ZoneDist1.atx\n",
      "qn_pluto.dbf\n",
      "qn_pluto.dbf.xml\n",
      "rows.csv\n",
      "SI_Dcp_Mappinglot.dbf\n",
      "SI_Dcp_Mappinglot.prj\n",
      "SI_Dcp_Mappinglot.sbn\n",
      "SI_Dcp_Mappinglot.sbx\n",
      "SI_Dcp_Mappinglot.shp\n",
      "SI_Dcp_Mappinglot.shp.xml\n",
      "SI_Dcp_Mappinglot.shx\n",
      "SIMapPLUTO.BBL.atx\n",
      "SIMapPLUTO.CD.atx\n",
      "SIMapPLUTO.dbf\n",
      "SIMapPLUTO.LandUse.atx\n",
      "SIMapPLUTO.prj\n",
      "SIMapPLUTO.sbn\n",
      "SIMapPLUTO.sbx\n",
      "SIMapPLUTO.shp\n",
      "SIMapPLUTO.shp.xml\n",
      "SIMapPLUTO.shx\n",
      "SIMapPLUTO.ZoneDist1.atx\n",
      "si_pluto.dbf\n",
      "si_pluto.dbf.xml\n",
      "times.txt\n",
      "World%20firearms%20murders.csv\n",
      "World_firearms_murders_and_ownership1.csv\n",
      "world_gdp.csv\n",
      "worldgdp.csv\n",
      "world_pop.csv\n",
      "worldpop.csv\n",
      "ZIP_CODE_040114.shp\n"
     ]
    }
   ],
   "source": [
    "# read in with goepandas\n",
    "!unzip -d $PUIDATA nypuma_17d.zip\n",
    "!ls $PUIDATA"
   ]
  },
  {
   "cell_type": "code",
   "execution_count": 5,
   "metadata": {},
   "outputs": [
    {
     "name": "stdout",
     "output_type": "stream",
     "text": [
      "201401-citibike-tripdata.csv\r\n",
      "201401-citibike-tripdata.zip\r\n",
      "201501-citibike-tripdata.csv\r\n",
      "201501-citibike-tripdata.zip\r\n",
      "201502-citibike-tripdata.csv\r\n",
      "201502-citibike-tripdata.zip\r\n",
      "201503-citibike-tripdata.csv\r\n",
      "201503-citibike-tripdata.zip\r\n",
      "201504-citibike-tripdata.csv\r\n",
      "201504-citibike-tripdata.zip\r\n",
      "201505-citibike-tripdata.csv\r\n",
      "201505-citibike-tripdata.zip\r\n",
      "201506-citibike-tripdata.csv\r\n",
      "201506-citibike-tripdata.zip\r\n",
      "201507-citibike-tripdata.csv\r\n",
      "201507-citibike-tripdata.zip\r\n",
      "201508-citibike-tripdata.csv\r\n",
      "201508-citibike-tripdata.zip\r\n",
      "201601-citibike-tripdata.csv\r\n",
      "201601-citibike-tripdata.zip\r\n",
      "201602-citibike-tripdata.csv\r\n",
      "201602-citibike-tripdata.zip\r\n",
      "201603-citibike-tripdata.csv\r\n",
      "201603-citibike-tripdata.zip\r\n",
      "201604-citibike-tripdata.csv\r\n",
      "201604-citibike-tripdata.zip\r\n",
      "201606-citibike-tripdata.csv\r\n",
      "201606-citibike-tripdata.zip\r\n",
      "201607-citibike-tripdata.csv\r\n",
      "201607-citibike-tripdata.zip\r\n",
      "201608-citibike-tripdata.csv\r\n",
      "201608-citibike-tripdata.zip\r\n",
      "201610-citibike-tripdata.csv\r\n",
      "201610-citibike-tripdata.zip\r\n",
      "201612-citibike-tripdata.csv\r\n",
      "201612-citibike-tripdata.zip\r\n",
      "201701-citibike-tripdata.csv\r\n",
      "201701-citibike-tripdata.csv.zip\r\n",
      "201706-citibike-tripdata.csv.zip\r\n",
      "201707-citibike-tripdata.csv\r\n",
      "201707-citibike-tripdata.csv.zip\r\n",
      "ACS_16_1YR_GCT2801\r\n",
      "ACS_16_1YR_GCT2801.ST50_metadata.csv\r\n",
      "ACS_16_1YR_GCT2801.ST50.txt\r\n",
      "ACS_16_1YR_GCT2801.ST50_with_ann.csv\r\n",
      "ACS_16_1YR_GCT2801.ST50.zip\r\n",
      "aff_download_readme_ann.txt\r\n",
      "API_NY.GDP.MKTP.CD_DS2_en_csv_v2.csv\r\n",
      "API_SP.POP.TOTL_DS2_en_csv_v2.csv\r\n",
      "BK_Dcp_Mappinglot.dbf\r\n",
      "BK_Dcp_Mappinglot.prj\r\n",
      "BK_Dcp_Mappinglot.sbn\r\n",
      "BK_Dcp_Mappinglot.sbx\r\n",
      "BK_Dcp_Mappinglot.shp\r\n",
      "BK_Dcp_Mappinglot.shp.xml\r\n",
      "BK_Dcp_Mappinglot.shx\r\n",
      "BKMapPLUTO.BBL.atx\r\n",
      "BKMapPLUTO.CD.atx\r\n",
      "BKMapPLUTO.dbf\r\n",
      "BKMapPLUTO.LandUse.atx\r\n",
      "BKMapPLUTO.prj\r\n",
      "BKMapPLUTO.sbn\r\n",
      "BKMapPLUTO.sbx\r\n",
      "BKMapPLUTO.shp\r\n",
      "BKMapPLUTO.shp.xml\r\n",
      "BKMapPLUTO.shx\r\n",
      "BKMapPLUTO.ZoneDist1.atx\r\n",
      "bk_pluto.dbf\r\n",
      "bk_pluto.dbf.xml\r\n",
      "BoroughBoundaries.geojson\r\n",
      "BORO_zip_files_csv\r\n",
      "BX_Dcp_Mappinglot.dbf\r\n",
      "BX_Dcp_Mappinglot.prj\r\n",
      "BX_Dcp_Mappinglot.sbn\r\n",
      "BX_Dcp_Mappinglot.sbx\r\n",
      "BX_Dcp_Mappinglot.shp\r\n",
      "BX_Dcp_Mappinglot.shp.xml\r\n",
      "BX_Dcp_Mappinglot.shx\r\n",
      "BXMapPLUTO.BBL.atx\r\n",
      "BXMapPLUTO.CD.atx\r\n",
      "BXMapPLUTO.dbf\r\n",
      "BXMapPLUTO.LandUse.atx\r\n",
      "BXMapPLUTO.prj\r\n",
      "BXMapPLUTO.sbn\r\n",
      "BXMapPLUTO.sbx\r\n",
      "BXMapPLUTO.shp\r\n",
      "BXMapPLUTO.shp.xml\r\n",
      "BXMapPLUTO.shx\r\n",
      "BXMapPLUTO.ZoneDist1.atx\r\n",
      "bx_pluto.dbf\r\n",
      "bx_pluto.dbf.xml\r\n",
      "census_key.txt\r\n",
      "citibike\r\n",
      "data-pvLFI.csv\r\n",
      "Energy_and_Water_Data_Disclosure_for_Local_Law_84__2013_.csv\r\n",
      "Energy_and_Water_Data_Disclosure_for_Local_Law_84_2013.csv\r\n",
      "energyconsumption.csv\r\n",
      "energy.csv\r\n",
      "Energy_Water_Data.csv\r\n",
      "fbb_matplotlibrc.json\r\n",
      "file.gz\r\n",
      "files.gz\r\n",
      "file.zip\r\n",
      "firearm.csv\r\n",
      "Firearm.csv\r\n",
      "gdp.csv\r\n",
      "geo_export_1ee9bb26-b899-4e64-a822-4a5431515a30.dbf\r\n",
      "geo_export_1ee9bb26-b899-4e64-a822-4a5431515a30.prj\r\n",
      "geo_export_1ee9bb26-b899-4e64-a822-4a5431515a30.shp\r\n",
      "geo_export_1ee9bb26-b899-4e64-a822-4a5431515a30.shx\r\n",
      "geo_export_391d62ac-917a-4125-a045-f20803998933.dbf\r\n",
      "geo_export_391d62ac-917a-4125-a045-f20803998933.prj\r\n",
      "geo_export_391d62ac-917a-4125-a045-f20803998933.shp\r\n",
      "geo_export_391d62ac-917a-4125-a045-f20803998933.shx\r\n",
      "geo_export_41bb049c-14f6-48c7-98ed-8703f0e3d140.dbf\r\n",
      "geo_export_41bb049c-14f6-48c7-98ed-8703f0e3d140.prj\r\n",
      "geo_export_41bb049c-14f6-48c7-98ed-8703f0e3d140.shp\r\n",
      "geo_export_41bb049c-14f6-48c7-98ed-8703f0e3d140.shx\r\n",
      "geo_export_71c143e8-541a-4a4a-bb8e-d405bee37dbc.dbf\r\n",
      "geo_export_71c143e8-541a-4a4a-bb8e-d405bee37dbc.prj\r\n",
      "geo_export_71c143e8-541a-4a4a-bb8e-d405bee37dbc.shp\r\n",
      "geo_export_71c143e8-541a-4a4a-bb8e-d405bee37dbc.shx\r\n",
      "geo_export_732556d4-3dc8-46c9-ab8e-87de579172bc.dbf\r\n",
      "geo_export_732556d4-3dc8-46c9-ab8e-87de579172bc.prj\r\n",
      "geo_export_732556d4-3dc8-46c9-ab8e-87de579172bc.shp\r\n",
      "geo_export_732556d4-3dc8-46c9-ab8e-87de579172bc.shx\r\n",
      "geo_export_bfa62d3f-9e6a-4a94-8a37-4f4f7ad234d6.dbf\r\n",
      "geo_export_bfa62d3f-9e6a-4a94-8a37-4f4f7ad234d6.prj\r\n",
      "geo_export_bfa62d3f-9e6a-4a94-8a37-4f4f7ad234d6.shp\r\n",
      "geo_export_bfa62d3f-9e6a-4a94-8a37-4f4f7ad234d6.shx\r\n",
      "geo_export_cfdadd52-507f-4133-bf91-3aea1a36349f.dbf\r\n",
      "geo_export_cfdadd52-507f-4133-bf91-3aea1a36349f.prj\r\n",
      "geo_export_cfdadd52-507f-4133-bf91-3aea1a36349f.shp\r\n",
      "geo_export_cfdadd52-507f-4133-bf91-3aea1a36349f.shx\r\n",
      "geo_export_cffc43ac-f585-4808-bff5-a29c4f34f538.dbf\r\n",
      "geo_export_cffc43ac-f585-4808-bff5-a29c4f34f538.prj\r\n",
      "geo_export_cffc43ac-f585-4808-bff5-a29c4f34f538.shp\r\n",
      "geo_export_cffc43ac-f585-4808-bff5-a29c4f34f538.shx\r\n",
      "geo_export_d68c9602-ce0b-456c-ab21-ecb75b729f14.dbf\r\n",
      "geo_export_d68c9602-ce0b-456c-ab21-ecb75b729f14.prj\r\n",
      "geo_export_d68c9602-ce0b-456c-ab21-ecb75b729f14.shp\r\n",
      "geo_export_d68c9602-ce0b-456c-ab21-ecb75b729f14.shx\r\n",
      "geo_export_e928e565-eed0-4fd2-bd36-e7a219178db7.dbf\r\n",
      "geo_export_e928e565-eed0-4fd2-bd36-e7a219178db7.prj\r\n",
      "geo_export_e928e565-eed0-4fd2-bd36-e7a219178db7.shp\r\n",
      "geo_export_e928e565-eed0-4fd2-bd36-e7a219178db7.shx\r\n",
      "geo_export_f1a07df9-c649-4a71-b8fc-d1b5f1abc499.cpg\r\n",
      "geo_export_f1a07df9-c649-4a71-b8fc-d1b5f1abc499.dbf\r\n",
      "geo_export_f1a07df9-c649-4a71-b8fc-d1b5f1abc499.prj\r\n",
      "geo_export_f1a07df9-c649-4a71-b8fc-d1b5f1abc499.shp\r\n",
      "geo_export_f1a07df9-c649-4a71-b8fc-d1b5f1abc499.shx\r\n",
      "JC-201707-citibike-tripdata.zip\r\n",
      "linkNYClocations.csv\r\n",
      "linkNYCpp.cpg\r\n",
      "linkNYCpp.dbf\r\n",
      "linkNYCpp.prj\r\n",
      "linkNYCpp.shp\r\n",
      "linkNYCpp.shx\r\n",
      "LL84_2013.csv\r\n",
      "m46j-75iy.csv\r\n",
      "Manhattan\r\n",
      "mass%20shooting.csv\r\n",
      "massshoot.csv\r\n",
      "MN.csv\r\n",
      "MN_Dcp_Mappinglot.dbf\r\n",
      "MN_Dcp_Mappinglot.prj\r\n",
      "MN_Dcp_Mappinglot.sbn\r\n",
      "MN_Dcp_Mappinglot.sbx\r\n",
      "MN_Dcp_Mappinglot.shp\r\n",
      "MN_Dcp_Mappinglot.shp.xml\r\n",
      "MN_Dcp_Mappinglot.shx\r\n",
      "mn_mappluto\r\n",
      "mn_mappluto_16v2\r\n",
      "mn_mappluto_16v2.zip\r\n",
      "MNMapPLUTO.BBL.atx\r\n",
      "MNMapPLUTO.CD.atx\r\n",
      "MNMapPLUTO.dbf\r\n",
      "MNMapPLUTO.LandUse.atx\r\n",
      "MNMapPLUTO.prj\r\n",
      "MNMapPLUTO.sbn\r\n",
      "MNMapPLUTO.sbx\r\n",
      "MNMapPLUTO.shp\r\n",
      "MNMapPLUTO.shp.xml\r\n",
      "MNMapPLUTO.shx\r\n",
      "MNMapPLUTO.ZoneDist1.atx\r\n",
      "MNPLUTO\r\n",
      "mn_pluto.dbf\r\n",
      "mn_pluto.dbf.xml\r\n",
      "nyc_pluto_16v2%20.zip\r\n",
      "NYCPUMA\r\n",
      "NYC_PUMA_Shapefile\r\n",
      "NYC_PUMA_Shapes.zip\r\n",
      "NYC_ZIPBusinessData\r\n",
      "NYC_Zipcode_Shapefile\r\n",
      "nypuma_17d\r\n",
      "nypuma_17d.zip\r\n",
      "out.zip\r\n",
      "PLUTODD16v2.pdf\r\n",
      "pop.csv\r\n",
      "puma\r\n",
      "PUMA\r\n",
      "pumadata\r\n",
      "puma.gz\r\n",
      "pumashplc.cpg\r\n",
      "pumashplc.dbf\r\n",
      "pumashplc.prj\r\n",
      "pumashplc.shp\r\n",
      "pumashplc.shx\r\n",
      "puma.zip\r\n",
      "QN_Dcp_Mappinglot.dbf\r\n",
      "QN_Dcp_Mappinglot.prj\r\n",
      "QN_Dcp_Mappinglot.sbn\r\n",
      "QN_Dcp_Mappinglot.sbx\r\n",
      "QN_Dcp_Mappinglot.shp\r\n",
      "QN_Dcp_Mappinglot.shp.xml\r\n",
      "QN_Dcp_Mappinglot.shx\r\n",
      "QNMapPLUTO.BBL.atx\r\n",
      "QNMapPLUTO.CD.atx\r\n",
      "QNMapPLUTO.dbf\r\n",
      "QNMapPLUTO.LandUse.atx\r\n",
      "QNMapPLUTO.prj\r\n",
      "QNMapPLUTO.sbn\r\n",
      "QNMapPLUTO.sbx\r\n",
      "QNMapPLUTO.shp\r\n",
      "QNMapPLUTO.shp.xml\r\n",
      "QNMapPLUTO.shx\r\n",
      "QNMapPLUTO.ZoneDist1.atx\r\n",
      "qn_pluto.dbf\r\n",
      "qn_pluto.dbf.xml\r\n",
      "rows.csv\r\n",
      "SI_Dcp_Mappinglot.dbf\r\n",
      "SI_Dcp_Mappinglot.prj\r\n",
      "SI_Dcp_Mappinglot.sbn\r\n",
      "SI_Dcp_Mappinglot.sbx\r\n",
      "SI_Dcp_Mappinglot.shp\r\n",
      "SI_Dcp_Mappinglot.shp.xml\r\n",
      "SI_Dcp_Mappinglot.shx\r\n",
      "SIMapPLUTO.BBL.atx\r\n",
      "SIMapPLUTO.CD.atx\r\n",
      "SIMapPLUTO.dbf\r\n",
      "SIMapPLUTO.LandUse.atx\r\n",
      "SIMapPLUTO.prj\r\n",
      "SIMapPLUTO.sbn\r\n",
      "SIMapPLUTO.sbx\r\n",
      "SIMapPLUTO.shp\r\n",
      "SIMapPLUTO.shp.xml\r\n",
      "SIMapPLUTO.shx\r\n",
      "SIMapPLUTO.ZoneDist1.atx\r\n",
      "si_pluto.dbf\r\n",
      "si_pluto.dbf.xml\r\n",
      "times.txt\r\n",
      "World%20firearms%20murders.csv\r\n",
      "World_firearms_murders_and_ownership1.csv\r\n",
      "world_gdp.csv\r\n",
      "worldgdp.csv\r\n",
      "world_pop.csv\r\n",
      "worldpop.csv\r\n",
      "ZIP_CODE_040114.shp\r\n"
     ]
    }
   ],
   "source": [
    "!ls $PUIDATA"
   ]
  },
  {
   "cell_type": "code",
   "execution_count": 6,
   "metadata": {},
   "outputs": [],
   "source": [
    "filename = os.getenv('PUIDATA') + '/PUMA'\n",
    "\n",
    "cens_key = open(os.getenv('PUIDATA')+'/census_key.txt', 'r+')\n",
    "myAPI = cens_key.readlines()[0]\n"
   ]
  },
  {
   "cell_type": "code",
   "execution_count": 7,
   "metadata": {},
   "outputs": [
    {
     "data": {
      "text/html": [
       "<div>\n",
       "<table border=\"1\" class=\"dataframe\">\n",
       "  <thead>\n",
       "    <tr style=\"text-align: right;\">\n",
       "      <th></th>\n",
       "      <th>shape_area</th>\n",
       "      <th>shape_leng</th>\n",
       "      <th>puma</th>\n",
       "      <th>geometry</th>\n",
       "    </tr>\n",
       "  </thead>\n",
       "  <tbody>\n",
       "    <tr>\n",
       "      <th>0</th>\n",
       "      <td>9.792852e+07</td>\n",
       "      <td>53227.144357</td>\n",
       "      <td>3701</td>\n",
       "      <td>POLYGON ((-73.89641133483133 40.90450452082026...</td>\n",
       "    </tr>\n",
       "    <tr>\n",
       "      <th>1</th>\n",
       "      <td>1.889860e+08</td>\n",
       "      <td>106050.002507</td>\n",
       "      <td>3702</td>\n",
       "      <td>POLYGON ((-73.86477258283533 40.90201244187379...</td>\n",
       "    </tr>\n",
       "    <tr>\n",
       "      <th>2</th>\n",
       "      <td>2.670137e+08</td>\n",
       "      <td>304070.209400</td>\n",
       "      <td>3703</td>\n",
       "      <td>(POLYGON ((-73.78833349834532 40.8346671297593...</td>\n",
       "    </tr>\n",
       "    <tr>\n",
       "      <th>3</th>\n",
       "      <td>1.062129e+08</td>\n",
       "      <td>47970.901277</td>\n",
       "      <td>3704</td>\n",
       "      <td>POLYGON ((-73.84792614069238 40.8713422330779,...</td>\n",
       "    </tr>\n",
       "    <tr>\n",
       "      <th>4</th>\n",
       "      <td>1.224950e+08</td>\n",
       "      <td>68630.512052</td>\n",
       "      <td>3705</td>\n",
       "      <td>POLYGON ((-73.88753429505171 40.82250933946978...</td>\n",
       "    </tr>\n",
       "  </tbody>\n",
       "</table>\n",
       "</div>"
      ],
      "text/plain": [
       "     shape_area     shape_leng  puma  \\\n",
       "0  9.792852e+07   53227.144357  3701   \n",
       "1  1.889860e+08  106050.002507  3702   \n",
       "2  2.670137e+08  304070.209400  3703   \n",
       "3  1.062129e+08   47970.901277  3704   \n",
       "4  1.224950e+08   68630.512052  3705   \n",
       "\n",
       "                                            geometry  \n",
       "0  POLYGON ((-73.89641133483133 40.90450452082026...  \n",
       "1  POLYGON ((-73.86477258283533 40.90201244187379...  \n",
       "2  (POLYGON ((-73.78833349834532 40.8346671297593...  \n",
       "3  POLYGON ((-73.84792614069238 40.8713422330779,...  \n",
       "4  POLYGON ((-73.88753429505171 40.82250933946978...  "
      ]
     },
     "execution_count": 7,
     "metadata": {},
     "output_type": "execute_result"
    }
   ],
   "source": [
    "pumashp = gp.read_file(filename)\n",
    "pumashp.head()"
   ]
  },
  {
   "cell_type": "code",
   "execution_count": 8,
   "metadata": {},
   "outputs": [
    {
     "data": {
      "text/plain": [
       "{'init': u'epsg:4326'}"
      ]
     },
     "execution_count": 8,
     "metadata": {},
     "output_type": "execute_result"
    }
   ],
   "source": [
    "pumashp.crs"
   ]
  },
  {
   "cell_type": "markdown",
   "metadata": {},
   "source": [
    "### 1.2  plot the PUMA NYC regions\n",
    "\n",
    "you can use the geopandas function plot. \n",
    "What is the appropriate plot to just show the shape of the PUMA regions? A choropleth could be ok, but it is better to just draw the contours of the region, since we do not want to highlight some regions over others by color choices. \n",
    "\n",
    "(Note: a while ago I wrote a quick function that plots choropleths and maps of NYC specifically putting legends and colorbars in the empty spaces taking advantage of the shape of the city and you are welcome to use it: https://github.com/fedhere/choroplethNYC. BUT YOU DO NOT HAVE TO)\n",
    "\n"
   ]
  },
  {
   "cell_type": "code",
   "execution_count": 9,
   "metadata": {},
   "outputs": [
    {
     "data": {
      "image/png": "[encoded data removed]",
      "text/plain": [
       "<matplotlib.figure.Figure at 0x7fdd75414cd0>"
      ]
     },
     "metadata": {},
     "output_type": "display_data"
    }
   ],
   "source": [
    "# reading in using @fedhere function for choropleth\n",
    "import choroplethNYC as cp\n",
    "cp.choroplethNYC(pumashp, column=None, color=\"white\", edgecolor=\"black\", lw=2);"
   ]
  },
  {
   "cell_type": "markdown",
   "metadata": {},
   "source": [
    "**Figure 1:** This shows the PUMA regions for the five boroughs of NYC. "
   ]
  },
  {
   "cell_type": "markdown",
   "metadata": {},
   "source": [
    "___"
   ]
  },
  {
   "cell_type": "markdown",
   "metadata": {},
   "source": [
    "## 2. American Fact Finder data on percentage of houses with broadband internet access\n",
    "\n",
    "Download the table of data from 2016 for NYC: you want to obtain data on broadband access (percentage of households with broadband access) at the PUMA (Public Use Microdata Area) geographical area level. "
   ]
  },
  {
   "cell_type": "markdown",
   "metadata": {},
   "source": [
    "### 2.1 Get data with American Fact Finder (AFF) API: "
   ]
  },
  {
   "cell_type": "code",
   "execution_count": 10,
   "metadata": {
    "scrolled": true
   },
   "outputs": [],
   "source": [
    "# with open('censusAPI.txt', 'r') as f:\n",
    "#     myAPI = f.readline()"
   ]
  },
  {
   "cell_type": "code",
   "execution_count": 11,
   "metadata": {},
   "outputs": [],
   "source": [
    "#read in in the variables available. the info you need is in the 1year ACS data\n",
    "url = \"https://api.census.gov/data/2016/acs/acs1/variables.json\"\n",
    "resp = requests.request('GET', url)\n",
    "aff1y = json.loads(resp.text)"
   ]
  },
  {
   "cell_type": "code",
   "execution_count": 12,
   "metadata": {},
   "outputs": [],
   "source": [
    "#turning things into arrays to enable broadcasting\n",
    "#Python3\n",
    "# affkeys = np.array(list(aff1y['variables'].keys()))\n",
    "# Python2\n",
    "affkeys = np.array(aff1y['variables'].keys())"
   ]
  },
  {
   "cell_type": "code",
   "execution_count": 13,
   "metadata": {},
   "outputs": [
    {
     "data": {
      "text/plain": [
       "[(u'B28002_008E',\n",
       "  u'Estimate!!Total!!With an Internet subscription!!Broadband such as cable, fiber optic or DSL!!Broadband such as cable, fiber optic or DSL with no other type of Internet subscription'),\n",
       " (u'B28002_004E',\n",
       "  u'Estimate!!Total!!With an Internet subscription!!Broadband of any type'),\n",
       " (u'B28002_007E',\n",
       "  u'Estimate!!Total!!With an Internet subscription!!Broadband such as cable, fiber optic or DSL')]"
      ]
     },
     "execution_count": 13,
     "metadata": {},
     "output_type": "execute_result"
    }
   ],
   "source": [
    "#extracting variables of B28002 that contain \"broadband\"\n",
    "[(k, aff1y['variables'][k]['label'])  for k in affkeys if k.startswith (\"B28002\") and \n",
    " 'Broadband' in aff1y['variables'][k]['label']]"
   ]
  },
  {
   "cell_type": "markdown",
   "metadata": {},
   "source": [
    "chose the appropriate variable and extract the relevant data: below I select the variable containing the number of household per PUMA. The \"all\" variable, which tells you what is the total number of units queried (households here) is generally stored in the \\_001 variable (B28002_001 in this case). \"E\" stands for *estimate*. M stands for *margin of error*, EA *estimate annotations*, MA *margin of error annotations*. You want the estimate for this exercise. "
   ]
  },
  {
   "cell_type": "code",
   "execution_count": 14,
   "metadata": {},
   "outputs": [
    {
     "data": {
      "text/plain": [
       "{u'attributes': u'B28002_001M,B28002_001EA',\n",
       " u'concept': u'PRESENCE AND TYPES OF INTERNET SUBSCRIPTIONS IN HOUSEHOLD',\n",
       " u'group': u'B28002',\n",
       " u'label': u'Estimate!!Total',\n",
       " u'limit': 0,\n",
       " u'predicateType': u'int',\n",
       " u'validValues': []}"
      ]
     },
     "execution_count": 14,
     "metadata": {},
     "output_type": "execute_result"
    }
   ],
   "source": [
    "#keyword for the number of households\n",
    "keyNhouseholds = 'B28002_001E'\n",
    "aff1y['variables'][keyNhouseholds]"
   ]
  },
  {
   "cell_type": "markdown",
   "metadata": {},
   "source": [
    "Similarly, choose the fractions of houses with any \"With an Internet subscription!!Broadband of any type\""
   ]
  },
  {
   "cell_type": "code",
   "execution_count": 15,
   "metadata": {},
   "outputs": [
    {
     "data": {
      "text/plain": [
       "{u'attributes': u'B28002_004M,B28002_004EA',\n",
       " u'concept': u'PRESENCE AND TYPES OF INTERNET SUBSCRIPTIONS IN HOUSEHOLD',\n",
       " u'group': u'B28002',\n",
       " u'label': u'Estimate!!Total!!With an Internet subscription!!Broadband of any type',\n",
       " u'limit': 0,\n",
       " u'predicateType': u'int',\n",
       " u'validValues': []}"
      ]
     },
     "execution_count": 15,
     "metadata": {},
     "output_type": "execute_result"
    }
   ],
   "source": [
    "#keyword for the number of households with broadband access\n",
    "keyNBB = 'B28002_004E'\n",
    "aff1y['variables'][keyNBB]"
   ]
  },
  {
   "cell_type": "code",
   "execution_count": 16,
   "metadata": {},
   "outputs": [
    {
     "data": {
      "text/html": [
       "<div>\n",
       "<table border=\"1\" class=\"dataframe\">\n",
       "  <thead>\n",
       "    <tr style=\"text-align: right;\">\n",
       "      <th></th>\n",
       "      <th>B28002_004E</th>\n",
       "      <th>NAME</th>\n",
       "      <th>state</th>\n",
       "      <th>public use microdata area</th>\n",
       "      <th>Unnamed: 4</th>\n",
       "    </tr>\n",
       "  </thead>\n",
       "  <tbody>\n",
       "    <tr>\n",
       "      <th>0</th>\n",
       "      <td>32607</td>\n",
       "      <td>St. Lawrence County PUMA, New York</td>\n",
       "      <td>36</td>\n",
       "      <td>100</td>\n",
       "      <td>NaN</td>\n",
       "    </tr>\n",
       "    <tr>\n",
       "      <th>1</th>\n",
       "      <td>50811</td>\n",
       "      <td>Clinton, Franklin, Essex &amp; Hamilton Counties P...</td>\n",
       "      <td>36</td>\n",
       "      <td>200</td>\n",
       "      <td>NaN</td>\n",
       "    </tr>\n",
       "    <tr>\n",
       "      <th>2</th>\n",
       "      <td>41210</td>\n",
       "      <td>Warren &amp; Washington Counties PUMA, New York</td>\n",
       "      <td>36</td>\n",
       "      <td>300</td>\n",
       "      <td>NaN</td>\n",
       "    </tr>\n",
       "    <tr>\n",
       "      <th>3</th>\n",
       "      <td>36075</td>\n",
       "      <td>Herkimer (North &amp; Central) &amp; Oneida (Outer) Co...</td>\n",
       "      <td>36</td>\n",
       "      <td>401</td>\n",
       "      <td>NaN</td>\n",
       "    </tr>\n",
       "    <tr>\n",
       "      <th>4</th>\n",
       "      <td>47786</td>\n",
       "      <td>Oneida County (Central)--Greater Utica &amp; Rome ...</td>\n",
       "      <td>36</td>\n",
       "      <td>402</td>\n",
       "      <td>NaN</td>\n",
       "    </tr>\n",
       "  </tbody>\n",
       "</table>\n",
       "</div>"
      ],
      "text/plain": [
       "   B28002_004E                                               NAME  state  \\\n",
       "0        32607                 St. Lawrence County PUMA, New York     36   \n",
       "1        50811  Clinton, Franklin, Essex & Hamilton Counties P...     36   \n",
       "2        41210        Warren & Washington Counties PUMA, New York     36   \n",
       "3        36075  Herkimer (North & Central) & Oneida (Outer) Co...     36   \n",
       "4        47786  Oneida County (Central)--Greater Utica & Rome ...     36   \n",
       "\n",
       "   public use microdata area  Unnamed: 4  \n",
       "0                        100         NaN  \n",
       "1                        200         NaN  \n",
       "2                        300         NaN  \n",
       "3                        401         NaN  \n",
       "4                        402         NaN  "
      ]
     },
     "execution_count": 16,
     "metadata": {},
     "output_type": "execute_result"
    }
   ],
   "source": [
    "# getting the broadband access number of households\n",
    "urlBB = \"https://api.census.gov/data/2016/acs/acs1?get=\" + keyNBB +\\\n",
    "\",NAME&for=public%20use%20microdata%20area:*&in=state:36&key=\" + myAPI\n",
    "respBB = requests.request('GET', urlBB).content\n",
    "pumaBB = pd.read_csv(io.StringIO(respBB.decode('utf-8').replace('[','').replace(']','')))\n",
    "\n",
    "pumaBB.head()"
   ]
  },
  {
   "cell_type": "code",
   "execution_count": 17,
   "metadata": {},
   "outputs": [
    {
     "data": {
      "text/html": [
       "<div>\n",
       "<table border=\"1\" class=\"dataframe\">\n",
       "  <thead>\n",
       "    <tr style=\"text-align: right;\">\n",
       "      <th></th>\n",
       "      <th>B28002_001E</th>\n",
       "      <th>NAME</th>\n",
       "      <th>state</th>\n",
       "      <th>public use microdata area</th>\n",
       "      <th>Unnamed: 4</th>\n",
       "    </tr>\n",
       "  </thead>\n",
       "  <tbody>\n",
       "    <tr>\n",
       "      <th>0</th>\n",
       "      <td>40479</td>\n",
       "      <td>St. Lawrence County PUMA, New York</td>\n",
       "      <td>36</td>\n",
       "      <td>100</td>\n",
       "      <td>NaN</td>\n",
       "    </tr>\n",
       "    <tr>\n",
       "      <th>1</th>\n",
       "      <td>67092</td>\n",
       "      <td>Clinton, Franklin, Essex &amp; Hamilton Counties P...</td>\n",
       "      <td>36</td>\n",
       "      <td>200</td>\n",
       "      <td>NaN</td>\n",
       "    </tr>\n",
       "    <tr>\n",
       "      <th>2</th>\n",
       "      <td>51614</td>\n",
       "      <td>Warren &amp; Washington Counties PUMA, New York</td>\n",
       "      <td>36</td>\n",
       "      <td>300</td>\n",
       "      <td>NaN</td>\n",
       "    </tr>\n",
       "    <tr>\n",
       "      <th>3</th>\n",
       "      <td>44300</td>\n",
       "      <td>Herkimer (North &amp; Central) &amp; Oneida (Outer) Co...</td>\n",
       "      <td>36</td>\n",
       "      <td>401</td>\n",
       "      <td>NaN</td>\n",
       "    </tr>\n",
       "    <tr>\n",
       "      <th>4</th>\n",
       "      <td>61146</td>\n",
       "      <td>Oneida County (Central)--Greater Utica &amp; Rome ...</td>\n",
       "      <td>36</td>\n",
       "      <td>402</td>\n",
       "      <td>NaN</td>\n",
       "    </tr>\n",
       "  </tbody>\n",
       "</table>\n",
       "</div>"
      ],
      "text/plain": [
       "   B28002_001E                                               NAME  state  \\\n",
       "0        40479                 St. Lawrence County PUMA, New York     36   \n",
       "1        67092  Clinton, Franklin, Essex & Hamilton Counties P...     36   \n",
       "2        51614        Warren & Washington Counties PUMA, New York     36   \n",
       "3        44300  Herkimer (North & Central) & Oneida (Outer) Co...     36   \n",
       "4        61146  Oneida County (Central)--Greater Utica & Rome ...     36   \n",
       "\n",
       "   public use microdata area  Unnamed: 4  \n",
       "0                        100         NaN  \n",
       "1                        200         NaN  \n",
       "2                        300         NaN  \n",
       "3                        401         NaN  \n",
       "4                        402         NaN  "
      ]
     },
     "execution_count": 17,
     "metadata": {},
     "output_type": "execute_result"
    }
   ],
   "source": [
    "#getting the first row of the table: the total number of households\n",
    "urlHH = \"https://api.census.gov/data/2016/acs/acs1?get=\" + keyNhouseholds +\\\n",
    "\",NAME&for=public%20use%20microdata%20area:*&in=state:36&key=\" + myAPI\n",
    "respHH = requests.request('GET', urlHH).content\n",
    "pumaHH = pd.read_csv(io.StringIO(respHH.decode('utf-8').replace('[','').replace(']','')))\n",
    "\n",
    "pumaHH.head()"
   ]
  },
  {
   "cell_type": "markdown",
   "metadata": {},
   "source": [
    "### 2.2 generate a feature for the percentage of households with broadband access"
   ]
  },
  {
   "cell_type": "code",
   "execution_count": 18,
   "metadata": {},
   "outputs": [
    {
     "data": {
      "text/html": [
       "<div>\n",
       "<table border=\"1\" class=\"dataframe\">\n",
       "  <thead>\n",
       "    <tr style=\"text-align: right;\">\n",
       "      <th></th>\n",
       "      <th>B28002_001E</th>\n",
       "      <th>NAME_x</th>\n",
       "      <th>state_x</th>\n",
       "      <th>public use microdata area</th>\n",
       "      <th>Unnamed: 4_x</th>\n",
       "      <th>B28002_004E</th>\n",
       "      <th>NAME_y</th>\n",
       "      <th>state_y</th>\n",
       "      <th>Unnamed: 4_y</th>\n",
       "      <th>percent_BB</th>\n",
       "    </tr>\n",
       "  </thead>\n",
       "  <tbody>\n",
       "    <tr>\n",
       "      <th>0</th>\n",
       "      <td>40479</td>\n",
       "      <td>St. Lawrence County PUMA, New York</td>\n",
       "      <td>36</td>\n",
       "      <td>100</td>\n",
       "      <td>NaN</td>\n",
       "      <td>32607</td>\n",
       "      <td>St. Lawrence County PUMA, New York</td>\n",
       "      <td>36</td>\n",
       "      <td>NaN</td>\n",
       "      <td>80.552879</td>\n",
       "    </tr>\n",
       "    <tr>\n",
       "      <th>1</th>\n",
       "      <td>67092</td>\n",
       "      <td>Clinton, Franklin, Essex &amp; Hamilton Counties P...</td>\n",
       "      <td>36</td>\n",
       "      <td>200</td>\n",
       "      <td>NaN</td>\n",
       "      <td>50811</td>\n",
       "      <td>Clinton, Franklin, Essex &amp; Hamilton Counties P...</td>\n",
       "      <td>36</td>\n",
       "      <td>NaN</td>\n",
       "      <td>75.733321</td>\n",
       "    </tr>\n",
       "    <tr>\n",
       "      <th>2</th>\n",
       "      <td>51614</td>\n",
       "      <td>Warren &amp; Washington Counties PUMA, New York</td>\n",
       "      <td>36</td>\n",
       "      <td>300</td>\n",
       "      <td>NaN</td>\n",
       "      <td>41210</td>\n",
       "      <td>Warren &amp; Washington Counties PUMA, New York</td>\n",
       "      <td>36</td>\n",
       "      <td>NaN</td>\n",
       "      <td>79.842678</td>\n",
       "    </tr>\n",
       "    <tr>\n",
       "      <th>3</th>\n",
       "      <td>44300</td>\n",
       "      <td>Herkimer (North &amp; Central) &amp; Oneida (Outer) Co...</td>\n",
       "      <td>36</td>\n",
       "      <td>401</td>\n",
       "      <td>NaN</td>\n",
       "      <td>36075</td>\n",
       "      <td>Herkimer (North &amp; Central) &amp; Oneida (Outer) Co...</td>\n",
       "      <td>36</td>\n",
       "      <td>NaN</td>\n",
       "      <td>81.433409</td>\n",
       "    </tr>\n",
       "    <tr>\n",
       "      <th>4</th>\n",
       "      <td>61146</td>\n",
       "      <td>Oneida County (Central)--Greater Utica &amp; Rome ...</td>\n",
       "      <td>36</td>\n",
       "      <td>402</td>\n",
       "      <td>NaN</td>\n",
       "      <td>47786</td>\n",
       "      <td>Oneida County (Central)--Greater Utica &amp; Rome ...</td>\n",
       "      <td>36</td>\n",
       "      <td>NaN</td>\n",
       "      <td>78.150656</td>\n",
       "    </tr>\n",
       "  </tbody>\n",
       "</table>\n",
       "</div>"
      ],
      "text/plain": [
       "   B28002_001E                                             NAME_x  state_x  \\\n",
       "0        40479                 St. Lawrence County PUMA, New York       36   \n",
       "1        67092  Clinton, Franklin, Essex & Hamilton Counties P...       36   \n",
       "2        51614        Warren & Washington Counties PUMA, New York       36   \n",
       "3        44300  Herkimer (North & Central) & Oneida (Outer) Co...       36   \n",
       "4        61146  Oneida County (Central)--Greater Utica & Rome ...       36   \n",
       "\n",
       "   public use microdata area  Unnamed: 4_x  B28002_004E  \\\n",
       "0                        100           NaN        32607   \n",
       "1                        200           NaN        50811   \n",
       "2                        300           NaN        41210   \n",
       "3                        401           NaN        36075   \n",
       "4                        402           NaN        47786   \n",
       "\n",
       "                                              NAME_y  state_y  Unnamed: 4_y  \\\n",
       "0                 St. Lawrence County PUMA, New York       36           NaN   \n",
       "1  Clinton, Franklin, Essex & Hamilton Counties P...       36           NaN   \n",
       "2        Warren & Washington Counties PUMA, New York       36           NaN   \n",
       "3  Herkimer (North & Central) & Oneida (Outer) Co...       36           NaN   \n",
       "4  Oneida County (Central)--Greater Utica & Rome ...       36           NaN   \n",
       "\n",
       "   percent_BB  \n",
       "0   80.552879  \n",
       "1   75.733321  \n",
       "2   79.842678  \n",
       "3   81.433409  \n",
       "4   78.150656  "
      ]
     },
     "execution_count": 18,
     "metadata": {},
     "output_type": "execute_result"
    }
   ],
   "source": [
    "pumaHHBB = pd.merge(pumaHH, pumaBB, on='public use microdata area')\n",
    "pumaHHBB['percent_BB'] = pumaHHBB['B28002_004E']/pumaHHBB['B28002_001E']* 100\n",
    "pumaHHBB.head()\n"
   ]
  },
  {
   "cell_type": "markdown",
   "metadata": {},
   "source": [
    "### 2.3 Now compare it with the AFF published \"percentage of households with broadband access\" which is a feature available through their website."
   ]
  },
  {
   "cell_type": "code",
   "execution_count": 19,
   "metadata": {},
   "outputs": [
    {
     "data": {
      "text/html": [
       "<div>\n",
       "<table border=\"1\" class=\"dataframe\">\n",
       "  <thead>\n",
       "    <tr style=\"text-align: right;\">\n",
       "      <th></th>\n",
       "      <th>GCT_STUB.target-geo-id2</th>\n",
       "      <th>HC01</th>\n",
       "      <th>HC02</th>\n",
       "    </tr>\n",
       "  </thead>\n",
       "  <tbody>\n",
       "    <tr>\n",
       "      <th>0</th>\n",
       "      <td>Target Geo Id2</td>\n",
       "      <td>Percent</td>\n",
       "      <td>Margin of Error</td>\n",
       "    </tr>\n",
       "    <tr>\n",
       "      <th>1</th>\n",
       "      <td>01</td>\n",
       "      <td>74.7</td>\n",
       "      <td>0.5</td>\n",
       "    </tr>\n",
       "    <tr>\n",
       "      <th>2</th>\n",
       "      <td>0100100</td>\n",
       "      <td>70.9</td>\n",
       "      <td>2.5</td>\n",
       "    </tr>\n",
       "    <tr>\n",
       "      <th>3</th>\n",
       "      <td>0100200</td>\n",
       "      <td>80.5</td>\n",
       "      <td>2.7</td>\n",
       "    </tr>\n",
       "    <tr>\n",
       "      <th>4</th>\n",
       "      <td>0100301</td>\n",
       "      <td>87.0</td>\n",
       "      <td>2.8</td>\n",
       "    </tr>\n",
       "  </tbody>\n",
       "</table>\n",
       "</div>"
      ],
      "text/plain": [
       "  GCT_STUB.target-geo-id2     HC01             HC02\n",
       "0          Target Geo Id2  Percent  Margin of Error\n",
       "1                      01     74.7              0.5\n",
       "2                 0100100     70.9              2.5\n",
       "3                 0100200     80.5              2.7\n",
       "4                 0100301     87.0              2.8"
      ]
     },
     "execution_count": 19,
     "metadata": {},
     "output_type": "execute_result"
    }
   ],
   "source": [
    "bbpc = pd.read_csv(os.getenv(\"PUIDATA\") + \"/ACS_16_1YR_GCT2801.ST50_with_ann.csv\",\n",
    "            usecols=[\"GCT_STUB.target-geo-id2\",\"HC01\",\"HC02\"])\n",
    "\n",
    "bbpc.head()"
   ]
  },
  {
   "cell_type": "code",
   "execution_count": 20,
   "metadata": {},
   "outputs": [],
   "source": [
    "bbpc.drop(0, inplace=True)"
   ]
  },
  {
   "cell_type": "code",
   "execution_count": 21,
   "metadata": {},
   "outputs": [
    {
     "data": {
      "text/html": [
       "<div>\n",
       "<table border=\"1\" class=\"dataframe\">\n",
       "  <thead>\n",
       "    <tr style=\"text-align: right;\">\n",
       "      <th></th>\n",
       "      <th>GCT_STUB.target-geo-id2</th>\n",
       "      <th>HC01</th>\n",
       "      <th>HC02</th>\n",
       "    </tr>\n",
       "  </thead>\n",
       "  <tbody>\n",
       "    <tr>\n",
       "      <th>1</th>\n",
       "      <td>01</td>\n",
       "      <td>74.7</td>\n",
       "      <td>0.5</td>\n",
       "    </tr>\n",
       "    <tr>\n",
       "      <th>2</th>\n",
       "      <td>0100100</td>\n",
       "      <td>70.9</td>\n",
       "      <td>2.5</td>\n",
       "    </tr>\n",
       "    <tr>\n",
       "      <th>3</th>\n",
       "      <td>0100200</td>\n",
       "      <td>80.5</td>\n",
       "      <td>2.7</td>\n",
       "    </tr>\n",
       "    <tr>\n",
       "      <th>4</th>\n",
       "      <td>0100301</td>\n",
       "      <td>87.0</td>\n",
       "      <td>2.8</td>\n",
       "    </tr>\n",
       "    <tr>\n",
       "      <th>5</th>\n",
       "      <td>0100302</td>\n",
       "      <td>81.9</td>\n",
       "      <td>2.9</td>\n",
       "    </tr>\n",
       "  </tbody>\n",
       "</table>\n",
       "</div>"
      ],
      "text/plain": [
       "  GCT_STUB.target-geo-id2  HC01 HC02\n",
       "1                      01  74.7  0.5\n",
       "2                 0100100  70.9  2.5\n",
       "3                 0100200  80.5  2.7\n",
       "4                 0100301  87.0  2.8\n",
       "5                 0100302  81.9  2.9"
      ]
     },
     "execution_count": 21,
     "metadata": {},
     "output_type": "execute_result"
    }
   ],
   "source": [
    "bbpc.head()"
   ]
  },
  {
   "cell_type": "code",
   "execution_count": 22,
   "metadata": {},
   "outputs": [
    {
     "data": {
      "text/html": [
       "<div>\n",
       "<table border=\"1\" class=\"dataframe\">\n",
       "  <thead>\n",
       "    <tr style=\"text-align: right;\">\n",
       "      <th></th>\n",
       "      <th>gid</th>\n",
       "      <th>HC01</th>\n",
       "      <th>HC02</th>\n",
       "    </tr>\n",
       "  </thead>\n",
       "  <tbody>\n",
       "    <tr>\n",
       "      <th>1</th>\n",
       "      <td>-3599999</td>\n",
       "      <td>74.7</td>\n",
       "      <td>0.5</td>\n",
       "    </tr>\n",
       "    <tr>\n",
       "      <th>2</th>\n",
       "      <td>-3499900</td>\n",
       "      <td>70.9</td>\n",
       "      <td>2.5</td>\n",
       "    </tr>\n",
       "    <tr>\n",
       "      <th>3</th>\n",
       "      <td>-3499800</td>\n",
       "      <td>80.5</td>\n",
       "      <td>2.7</td>\n",
       "    </tr>\n",
       "    <tr>\n",
       "      <th>4</th>\n",
       "      <td>-3499699</td>\n",
       "      <td>87.0</td>\n",
       "      <td>2.8</td>\n",
       "    </tr>\n",
       "    <tr>\n",
       "      <th>5</th>\n",
       "      <td>-3499698</td>\n",
       "      <td>81.9</td>\n",
       "      <td>2.9</td>\n",
       "    </tr>\n",
       "  </tbody>\n",
       "</table>\n",
       "</div>"
      ],
      "text/plain": [
       "       gid  HC01 HC02\n",
       "1 -3599999  74.7  0.5\n",
       "2 -3499900  70.9  2.5\n",
       "3 -3499800  80.5  2.7\n",
       "4 -3499699  87.0  2.8\n",
       "5 -3499698  81.9  2.9"
      ]
     },
     "execution_count": 22,
     "metadata": {},
     "output_type": "execute_result"
    }
   ],
   "source": [
    "# rename to gid\n",
    "bbpc.rename(columns={'GCT_STUB.target-geo-id2': 'gid'}, inplace=True)\n",
    "\n",
    "# convert GCT to int\n",
    "bbpc['gid'] = bbpc['gid'].astype(int)\n",
    "\n",
    "# subtract 3600000 so we can merge appropriately\n",
    "bbpc['gid'] = bbpc.gid - 3600000\n",
    "bbpc.head()"
   ]
  },
  {
   "cell_type": "markdown",
   "metadata": {},
   "source": [
    "### Check that the percentage of households with broadband you generated and the one you red in from the table you downloaded manually are the same"
   ]
  },
  {
   "cell_type": "code",
   "execution_count": 23,
   "metadata": {},
   "outputs": [
    {
     "data": {
      "text/html": [
       "<div>\n",
       "<table border=\"1\" class=\"dataframe\">\n",
       "  <thead>\n",
       "    <tr style=\"text-align: right;\">\n",
       "      <th></th>\n",
       "      <th>percent_BB</th>\n",
       "      <th>diff</th>\n",
       "    </tr>\n",
       "  </thead>\n",
       "  <tbody>\n",
       "    <tr>\n",
       "      <th>count</th>\n",
       "      <td>145.000000</td>\n",
       "      <td>145.000000</td>\n",
       "    </tr>\n",
       "    <tr>\n",
       "      <th>mean</th>\n",
       "      <td>81.845478</td>\n",
       "      <td>0.026217</td>\n",
       "    </tr>\n",
       "    <tr>\n",
       "      <th>std</th>\n",
       "      <td>7.063369</td>\n",
       "      <td>0.014480</td>\n",
       "    </tr>\n",
       "    <tr>\n",
       "      <th>min</th>\n",
       "      <td>54.932945</td>\n",
       "      <td>0.000178</td>\n",
       "    </tr>\n",
       "    <tr>\n",
       "      <th>25%</th>\n",
       "      <td>77.770257</td>\n",
       "      <td>0.012252</td>\n",
       "    </tr>\n",
       "    <tr>\n",
       "      <th>50%</th>\n",
       "      <td>82.826141</td>\n",
       "      <td>0.027230</td>\n",
       "    </tr>\n",
       "    <tr>\n",
       "      <th>75%</th>\n",
       "      <td>87.305077</td>\n",
       "      <td>0.039090</td>\n",
       "    </tr>\n",
       "    <tr>\n",
       "      <th>max</th>\n",
       "      <td>93.404143</td>\n",
       "      <td>0.049872</td>\n",
       "    </tr>\n",
       "  </tbody>\n",
       "</table>\n",
       "</div>"
      ],
      "text/plain": [
       "       percent_BB        diff\n",
       "count  145.000000  145.000000\n",
       "mean    81.845478    0.026217\n",
       "std      7.063369    0.014480\n",
       "min     54.932945    0.000178\n",
       "25%     77.770257    0.012252\n",
       "50%     82.826141    0.027230\n",
       "75%     87.305077    0.039090\n",
       "max     93.404143    0.049872"
      ]
     },
     "execution_count": 23,
     "metadata": {},
     "output_type": "execute_result"
    }
   ],
   "source": [
    "# merge on gid\n",
    "diff_ = pumaHHBB.merge(bbpc, right_on=\"gid\", \n",
    "                     left_on=\"public use microdata area\")[[\"percent_BB\", \"HC01\"]]\n",
    "\n",
    "# look at the difference\n",
    "diff_[\"diff\"] = np.abs(diff_[\"percent_BB\"] - diff_[\"HC01\"].astype(float))\n",
    "\n",
    "diff_.describe()"
   ]
  },
  {
   "cell_type": "markdown",
   "metadata": {},
   "source": [
    "the maximum difference is less than one percentage point"
   ]
  },
  {
   "cell_type": "markdown",
   "metadata": {},
   "source": [
    "### 3 Plot a choropleth of NYC broadband access "
   ]
  },
  {
   "cell_type": "code",
   "execution_count": 24,
   "metadata": {},
   "outputs": [
    {
     "data": {
      "text/html": [
       "<div>\n",
       "<table border=\"1\" class=\"dataframe\">\n",
       "  <thead>\n",
       "    <tr style=\"text-align: right;\">\n",
       "      <th></th>\n",
       "      <th>shape_area</th>\n",
       "      <th>shape_leng</th>\n",
       "      <th>puma</th>\n",
       "      <th>geometry</th>\n",
       "      <th>PUMA</th>\n",
       "      <th>B28002_001E</th>\n",
       "      <th>NAME_x</th>\n",
       "      <th>state_x</th>\n",
       "      <th>public use microdata area</th>\n",
       "      <th>Unnamed: 4_x</th>\n",
       "      <th>B28002_004E</th>\n",
       "      <th>NAME_y</th>\n",
       "      <th>state_y</th>\n",
       "      <th>Unnamed: 4_y</th>\n",
       "      <th>percent_BB</th>\n",
       "    </tr>\n",
       "  </thead>\n",
       "  <tbody>\n",
       "    <tr>\n",
       "      <th>0</th>\n",
       "      <td>9.792852e+07</td>\n",
       "      <td>53227.144357</td>\n",
       "      <td>3701</td>\n",
       "      <td>POLYGON ((-73.89641133483133 40.90450452082026...</td>\n",
       "      <td>3701</td>\n",
       "      <td>42158</td>\n",
       "      <td>NYC-Bronx Community District 8--Riverdale, Fie...</td>\n",
       "      <td>36</td>\n",
       "      <td>3701</td>\n",
       "      <td>NaN</td>\n",
       "      <td>35529</td>\n",
       "      <td>NYC-Bronx Community District 8--Riverdale, Fie...</td>\n",
       "      <td>36</td>\n",
       "      <td>NaN</td>\n",
       "      <td>84.275820</td>\n",
       "    </tr>\n",
       "    <tr>\n",
       "      <th>1</th>\n",
       "      <td>1.889860e+08</td>\n",
       "      <td>106050.002507</td>\n",
       "      <td>3702</td>\n",
       "      <td>POLYGON ((-73.86477258283533 40.90201244187379...</td>\n",
       "      <td>3702</td>\n",
       "      <td>49817</td>\n",
       "      <td>NYC-Bronx Community District 12--Wakefield, Wi...</td>\n",
       "      <td>36</td>\n",
       "      <td>3702</td>\n",
       "      <td>NaN</td>\n",
       "      <td>34030</td>\n",
       "      <td>NYC-Bronx Community District 12--Wakefield, Wi...</td>\n",
       "      <td>36</td>\n",
       "      <td>NaN</td>\n",
       "      <td>68.310015</td>\n",
       "    </tr>\n",
       "    <tr>\n",
       "      <th>2</th>\n",
       "      <td>2.670137e+08</td>\n",
       "      <td>304070.209400</td>\n",
       "      <td>3703</td>\n",
       "      <td>(POLYGON ((-73.78833349834532 40.8346671297593...</td>\n",
       "      <td>3703</td>\n",
       "      <td>44329</td>\n",
       "      <td>NYC-Bronx Community District 10--Co-op City, P...</td>\n",
       "      <td>36</td>\n",
       "      <td>3703</td>\n",
       "      <td>NaN</td>\n",
       "      <td>36716</td>\n",
       "      <td>NYC-Bronx Community District 10--Co-op City, P...</td>\n",
       "      <td>36</td>\n",
       "      <td>NaN</td>\n",
       "      <td>82.826141</td>\n",
       "    </tr>\n",
       "    <tr>\n",
       "      <th>3</th>\n",
       "      <td>1.062129e+08</td>\n",
       "      <td>47970.901277</td>\n",
       "      <td>3704</td>\n",
       "      <td>POLYGON ((-73.84792614069238 40.8713422330779,...</td>\n",
       "      <td>3704</td>\n",
       "      <td>44476</td>\n",
       "      <td>NYC-Bronx Community District 11--Pelham Parkwa...</td>\n",
       "      <td>36</td>\n",
       "      <td>3704</td>\n",
       "      <td>NaN</td>\n",
       "      <td>32269</td>\n",
       "      <td>NYC-Bronx Community District 11--Pelham Parkwa...</td>\n",
       "      <td>36</td>\n",
       "      <td>NaN</td>\n",
       "      <td>72.553737</td>\n",
       "    </tr>\n",
       "    <tr>\n",
       "      <th>4</th>\n",
       "      <td>1.224950e+08</td>\n",
       "      <td>68630.512052</td>\n",
       "      <td>3705</td>\n",
       "      <td>POLYGON ((-73.88753429505171 40.82250933946978...</td>\n",
       "      <td>3705</td>\n",
       "      <td>58706</td>\n",
       "      <td>NYC-Bronx Community District 3 &amp; 6--Belmont, C...</td>\n",
       "      <td>36</td>\n",
       "      <td>3705</td>\n",
       "      <td>NaN</td>\n",
       "      <td>40757</td>\n",
       "      <td>NYC-Bronx Community District 3 &amp; 6--Belmont, C...</td>\n",
       "      <td>36</td>\n",
       "      <td>NaN</td>\n",
       "      <td>69.425612</td>\n",
       "    </tr>\n",
       "  </tbody>\n",
       "</table>\n",
       "</div>"
      ],
      "text/plain": [
       "     shape_area     shape_leng  puma  \\\n",
       "0  9.792852e+07   53227.144357  3701   \n",
       "1  1.889860e+08  106050.002507  3702   \n",
       "2  2.670137e+08  304070.209400  3703   \n",
       "3  1.062129e+08   47970.901277  3704   \n",
       "4  1.224950e+08   68630.512052  3705   \n",
       "\n",
       "                                            geometry  PUMA  B28002_001E  \\\n",
       "0  POLYGON ((-73.89641133483133 40.90450452082026...  3701        42158   \n",
       "1  POLYGON ((-73.86477258283533 40.90201244187379...  3702        49817   \n",
       "2  (POLYGON ((-73.78833349834532 40.8346671297593...  3703        44329   \n",
       "3  POLYGON ((-73.84792614069238 40.8713422330779,...  3704        44476   \n",
       "4  POLYGON ((-73.88753429505171 40.82250933946978...  3705        58706   \n",
       "\n",
       "                                              NAME_x  state_x  \\\n",
       "0  NYC-Bronx Community District 8--Riverdale, Fie...       36   \n",
       "1  NYC-Bronx Community District 12--Wakefield, Wi...       36   \n",
       "2  NYC-Bronx Community District 10--Co-op City, P...       36   \n",
       "3  NYC-Bronx Community District 11--Pelham Parkwa...       36   \n",
       "4  NYC-Bronx Community District 3 & 6--Belmont, C...       36   \n",
       "\n",
       "   public use microdata area  Unnamed: 4_x  B28002_004E  \\\n",
       "0                       3701           NaN        35529   \n",
       "1                       3702           NaN        34030   \n",
       "2                       3703           NaN        36716   \n",
       "3                       3704           NaN        32269   \n",
       "4                       3705           NaN        40757   \n",
       "\n",
       "                                              NAME_y  state_y  Unnamed: 4_y  \\\n",
       "0  NYC-Bronx Community District 8--Riverdale, Fie...       36           NaN   \n",
       "1  NYC-Bronx Community District 12--Wakefield, Wi...       36           NaN   \n",
       "2  NYC-Bronx Community District 10--Co-op City, P...       36           NaN   \n",
       "3  NYC-Bronx Community District 11--Pelham Parkwa...       36           NaN   \n",
       "4  NYC-Bronx Community District 3 & 6--Belmont, C...       36           NaN   \n",
       "\n",
       "   percent_BB  \n",
       "0   84.275820  \n",
       "1   68.310015  \n",
       "2   82.826141  \n",
       "3   72.553737  \n",
       "4   69.425612  "
      ]
     },
     "execution_count": 24,
     "metadata": {},
     "output_type": "execute_result"
    }
   ],
   "source": [
    "pumashp['PUMA'] = pumashp.puma\n",
    "pumashp.PUMA = pumashp.PUMA.astype(int)\n",
    "pumashp = pumashp.merge(pumaHHBB, left_on='PUMA', right_on='public use microdata area')\n",
    "pumashp.head()"
   ]
  },
  {
   "cell_type": "code",
   "execution_count": 25,
   "metadata": {},
   "outputs": [
    {
     "data": {
      "text/plain": [
       "<matplotlib.text.Text at 0x7fdd57f11310>"
      ]
     },
     "execution_count": 25,
     "metadata": {},
     "output_type": "execute_result"
    },
    {
     "data": {
      "image/png": "[encoded data removed]",
      "text/plain": [
       "<matplotlib.figure.Figure at 0x7fddcf23ded0>"
      ]
     },
     "metadata": {},
     "output_type": "display_data"
    }
   ],
   "source": [
    "#choropleth of the percentage of internet acess\n",
    "cp.choroplethNYC(pumashp, column='percent_BB', lw=2);\n",
    "plt.title('Choropleth: Percentage of Broadband Access', fontsize=20)\n"
   ]
  },
  {
   "cell_type": "markdown",
   "metadata": {},
   "source": [
    "**Figure 2:** This map show the percentage of households that have broadband internet in each PUMA of NYC. The lighter colors show areas that have the highest percentages. The light areas of Manhattan make sense with what we know to be the socioeconomic background of that area. There is one outlier in the south eastern corner of Manhattan. It seems unusual that this area would have such a low percentage; further investigation is needed. "
   ]
  },
  {
   "cell_type": "markdown",
   "metadata": {},
   "source": [
    "## 4. LinkNYC: assess whether the locations of the linkNYC stations are supplying internet where it is needed.\n",
    "\n",
    "acquire the linkNYC locations and prepare them into a dataframe\n",
    "read it in from the HW9_fb55 folder in :\n",
    "https://github.com/fedhere/PUI2017_fb55\n",
    "\n",
    "Notice that you can also get a linkNYC locations shapefile from NYC open data, as I did to generate this, but I want you do to do some extra coordinates gymnastics for practice so use the one I provide."
   ]
  },
  {
   "cell_type": "code",
   "execution_count": 26,
   "metadata": {},
   "outputs": [],
   "source": [
    "linkNYC = pd.read_csv('https://raw.githubusercontent.com/fedhere/PUI2017_fb55/master/HW9_fb55/linkNYClocations.csv')"
   ]
  },
  {
   "cell_type": "code",
   "execution_count": 27,
   "metadata": {},
   "outputs": [
    {
     "data": {
      "text/html": [
       "<div>\n",
       "<table border=\"1\" class=\"dataframe\">\n",
       "  <thead>\n",
       "    <tr style=\"text-align: right;\">\n",
       "      <th></th>\n",
       "      <th>Unnamed: 0</th>\n",
       "      <th>link_site</th>\n",
       "      <th>longitude</th>\n",
       "      <th>date_link_</th>\n",
       "      <th>latitude</th>\n",
       "    </tr>\n",
       "  </thead>\n",
       "  <tbody>\n",
       "    <tr>\n",
       "      <th>0</th>\n",
       "      <td>0</td>\n",
       "      <td>bk-01-138951</td>\n",
       "      <td>-73.942489</td>\n",
       "      <td>2017-07-01</td>\n",
       "      <td>40.701668</td>\n",
       "    </tr>\n",
       "    <tr>\n",
       "      <th>1</th>\n",
       "      <td>1</td>\n",
       "      <td>bk-01-109091</td>\n",
       "      <td>-73.942169</td>\n",
       "      <td>2017-07-01</td>\n",
       "      <td>40.701542</td>\n",
       "    </tr>\n",
       "    <tr>\n",
       "      <th>2</th>\n",
       "      <td>2</td>\n",
       "      <td>bk-01-143982</td>\n",
       "      <td>-73.942239</td>\n",
       "      <td>2017-07-01</td>\n",
       "      <td>40.701930</td>\n",
       "    </tr>\n",
       "    <tr>\n",
       "      <th>3</th>\n",
       "      <td>3</td>\n",
       "      <td>bk-01-109262</td>\n",
       "      <td>-73.942918</td>\n",
       "      <td>2017-04-28</td>\n",
       "      <td>40.705060</td>\n",
       "    </tr>\n",
       "    <tr>\n",
       "      <th>4</th>\n",
       "      <td>4</td>\n",
       "      <td>bk-01-125268</td>\n",
       "      <td>-73.953439</td>\n",
       "      <td>2017-03-31</td>\n",
       "      <td>40.728133</td>\n",
       "    </tr>\n",
       "  </tbody>\n",
       "</table>\n",
       "</div>"
      ],
      "text/plain": [
       "   Unnamed: 0     link_site  longitude  date_link_   latitude\n",
       "0           0  bk-01-138951 -73.942489  2017-07-01  40.701668\n",
       "1           1  bk-01-109091 -73.942169  2017-07-01  40.701542\n",
       "2           2  bk-01-143982 -73.942239  2017-07-01  40.701930\n",
       "3           3  bk-01-109262 -73.942918  2017-04-28  40.705060\n",
       "4           4  bk-01-125268 -73.953439  2017-03-31  40.728133"
      ]
     },
     "execution_count": 27,
     "metadata": {},
     "output_type": "execute_result"
    }
   ],
   "source": [
    "(linkNYC.longitude).astype(float)\n",
    "(linkNYC.latitude).astype(float)\n",
    "linkNYC.head()"
   ]
  },
  {
   "cell_type": "markdown",
   "metadata": {},
   "source": [
    "### combine long lat column  to greate a \"geometry\" column for the dataframe, then convert the dataframe into a GeoDataFrame _linkNYC_ and set native coordinates frame to lat/lon"
   ]
  },
  {
   "cell_type": "code",
   "execution_count": 28,
   "metadata": {},
   "outputs": [
    {
     "data": {
      "text/html": [
       "<div>\n",
       "<table border=\"1\" class=\"dataframe\">\n",
       "  <thead>\n",
       "    <tr style=\"text-align: right;\">\n",
       "      <th></th>\n",
       "      <th>Unnamed: 0</th>\n",
       "      <th>link_site</th>\n",
       "      <th>longitude</th>\n",
       "      <th>date_link_</th>\n",
       "      <th>latitude</th>\n",
       "      <th>lonlat</th>\n",
       "      <th>geometry</th>\n",
       "    </tr>\n",
       "  </thead>\n",
       "  <tbody>\n",
       "    <tr>\n",
       "      <th>0</th>\n",
       "      <td>0</td>\n",
       "      <td>bk-01-138951</td>\n",
       "      <td>-73.942489</td>\n",
       "      <td>2017-07-01</td>\n",
       "      <td>40.701668</td>\n",
       "      <td>(-73.94248859, 40.70166753)</td>\n",
       "      <td>POINT (-73.94248859 40.70166753)</td>\n",
       "    </tr>\n",
       "    <tr>\n",
       "      <th>1</th>\n",
       "      <td>1</td>\n",
       "      <td>bk-01-109091</td>\n",
       "      <td>-73.942169</td>\n",
       "      <td>2017-07-01</td>\n",
       "      <td>40.701542</td>\n",
       "      <td>(-73.9421692831, 40.7015421938)</td>\n",
       "      <td>POINT (-73.9421692831 40.7015421938)</td>\n",
       "    </tr>\n",
       "    <tr>\n",
       "      <th>2</th>\n",
       "      <td>2</td>\n",
       "      <td>bk-01-143982</td>\n",
       "      <td>-73.942239</td>\n",
       "      <td>2017-07-01</td>\n",
       "      <td>40.701930</td>\n",
       "      <td>(-73.9422392385, 40.7019303439)</td>\n",
       "      <td>POINT (-73.94223923850001 40.7019303439)</td>\n",
       "    </tr>\n",
       "    <tr>\n",
       "      <th>3</th>\n",
       "      <td>3</td>\n",
       "      <td>bk-01-109262</td>\n",
       "      <td>-73.942918</td>\n",
       "      <td>2017-04-28</td>\n",
       "      <td>40.705060</td>\n",
       "      <td>(-73.94291758, 40.70506042)</td>\n",
       "      <td>POINT (-73.94291758 40.70506042)</td>\n",
       "    </tr>\n",
       "    <tr>\n",
       "      <th>4</th>\n",
       "      <td>4</td>\n",
       "      <td>bk-01-125268</td>\n",
       "      <td>-73.953439</td>\n",
       "      <td>2017-03-31</td>\n",
       "      <td>40.728133</td>\n",
       "      <td>(-73.953439, 40.728133)</td>\n",
       "      <td>POINT (-73.953439 40.728133)</td>\n",
       "    </tr>\n",
       "  </tbody>\n",
       "</table>\n",
       "</div>"
      ],
      "text/plain": [
       "   Unnamed: 0     link_site  longitude  date_link_   latitude  \\\n",
       "0           0  bk-01-138951 -73.942489  2017-07-01  40.701668   \n",
       "1           1  bk-01-109091 -73.942169  2017-07-01  40.701542   \n",
       "2           2  bk-01-143982 -73.942239  2017-07-01  40.701930   \n",
       "3           3  bk-01-109262 -73.942918  2017-04-28  40.705060   \n",
       "4           4  bk-01-125268 -73.953439  2017-03-31  40.728133   \n",
       "\n",
       "                            lonlat                                  geometry  \n",
       "0      (-73.94248859, 40.70166753)          POINT (-73.94248859 40.70166753)  \n",
       "1  (-73.9421692831, 40.7015421938)      POINT (-73.9421692831 40.7015421938)  \n",
       "2  (-73.9422392385, 40.7019303439)  POINT (-73.94223923850001 40.7019303439)  \n",
       "3      (-73.94291758, 40.70506042)          POINT (-73.94291758 40.70506042)  \n",
       "4          (-73.953439, 40.728133)              POINT (-73.953439 40.728133)  "
      ]
     },
     "execution_count": 28,
     "metadata": {},
     "output_type": "execute_result"
    }
   ],
   "source": [
    "# combine lat and lon to one column\n",
    "linkNYC['lonlat'] = zip(linkNYC['longitude'], linkNYC['latitude'])\n",
    "\n",
    "# create a point geometry for lat long column\n",
    "linkNYC['geometry'] = linkNYC[['lonlat']].applymap(lambda x:shapely.geometry.Point(x))\n",
    "\n",
    "# convert back into a geodataframe\n",
    "geometry = linkNYC.geometry\n",
    "crs = {'init': 'epsg:4326'}\n",
    "linkNYC = GeoDataFrame(linkNYC, crs=crs, geometry=geometry)\n",
    "\n",
    "# let's see what we're working with \n",
    "linkNYC.head()"
   ]
  },
  {
   "cell_type": "code",
   "execution_count": 29,
   "metadata": {},
   "outputs": [
    {
     "data": {
      "text/plain": [
       "{'init': 'epsg:4326'}"
      ]
     },
     "execution_count": 29,
     "metadata": {},
     "output_type": "execute_result"
    }
   ],
   "source": [
    "linkNYC.crs"
   ]
  },
  {
   "cell_type": "markdown",
   "metadata": {},
   "source": [
    "### plot the location of the linkNYC stations on top of a choropleth of broadband access percentage in *5 equal intervals*"
   ]
  },
  {
   "cell_type": "code",
   "execution_count": 30,
   "metadata": {},
   "outputs": [],
   "source": [
    "# convert to same projection\n",
    "pumashp = pumashp.to_crs(epsg=4326)"
   ]
  },
  {
   "cell_type": "code",
   "execution_count": 31,
   "metadata": {},
   "outputs": [
    {
     "name": "stdout",
     "output_type": "stream",
     "text": [
      "{'init': 'epsg:4326'}\n",
      "{'init': 'epsg:4326', 'no_defs': True}\n"
     ]
    }
   ],
   "source": [
    "# check that they're the same\n",
    "print linkNYC.crs\n",
    "print pumashp.crs"
   ]
  },
  {
   "cell_type": "code",
   "execution_count": 32,
   "metadata": {},
   "outputs": [
    {
     "name": "stderr",
     "output_type": "stream",
     "text": [
      "/opt/rh/anaconda/root/envs/PUI2016_Python2/lib/python2.7/site-packages/matplotlib/axes/_axes.py:545: UserWarning: No labelled objects found. Use label='...' kwarg on individual plots.\n",
      "  warnings.warn(\"No labelled objects found. \"\n"
     ]
    },
    {
     "data": {
      "text/plain": [
       "<matplotlib.text.Text at 0x7fdd57d85850>"
      ]
     },
     "execution_count": 32,
     "metadata": {},
     "output_type": "execute_result"
    },
    {
     "data": {
      "image/png": "[encoded data removed]",
      "text/plain": [
       "<matplotlib.figure.Figure at 0x7fdd57e3eed0>"
      ]
     },
     "metadata": {},
     "output_type": "display_data"
    }
   ],
   "source": [
    "# source: https://github.com/fedhere/PUI2017_fb55/blob/master/HW9_fb55/pandasGeospatialABC.ipynb\n",
    "\n",
    "# plotting the basemap\n",
    "fig, ax, cb = cp.choroplethNYC(pumashp, column='percent_BB', cmap='Blues', scheme=\"Equal_interval\", k=5, lw=1, cb=True);\n",
    "\n",
    "# plotting the linknyc kiosks\n",
    "linkNYC.plot(ax=ax, cmap='Reds', markersize=4, alpha=.8, k=5)\n",
    "\n",
    "plt.title('Percentage of Broadband Access + Kiosk Locations ', fontsize=20)\n",
    "\n",
    "\n"
   ]
  },
  {
   "cell_type": "markdown",
   "metadata": {},
   "source": [
    "**Figure 3:** This map classifies shows the percentage of broadband by PUMA in the five boroughs of New York City. On top of the PUMAs, red dots show the location of LinkNYC booths. You'll notice that the LinkNYC kiosks don't stretch into the areas with the least amount of broadband, and are most dense in some of the areas with the most broadband."
   ]
  },
  {
   "cell_type": "markdown",
   "metadata": {},
   "source": [
    "## 5 Find the number of linkNYC locations per person by PUMA\n",
    "\n",
    "### 5.1 with the AFF API from ACS get the total population by puma and merge it into your GeoDF"
   ]
  },
  {
   "cell_type": "code",
   "execution_count": 33,
   "metadata": {
    "scrolled": true
   },
   "outputs": [
    {
     "data": {
      "text/plain": [
       "{u'attributes': u'B00001_001EA',\n",
       " u'concept': u'UNWEIGHTED SAMPLE COUNT OF THE POPULATION',\n",
       " u'group': u'B00001',\n",
       " u'label': u'Estimate!!Total',\n",
       " u'limit': 0,\n",
       " u'predicateType': u'int',\n",
       " u'validValues': []}"
      ]
     },
     "execution_count": 33,
     "metadata": {},
     "output_type": "execute_result"
    }
   ],
   "source": [
    "keyPop = 'B00001_001E'\n",
    "aff1y['variables'][keyPop]"
   ]
  },
  {
   "cell_type": "code",
   "execution_count": 34,
   "metadata": {},
   "outputs": [
    {
     "data": {
      "text/html": [
       "<div>\n",
       "<table border=\"1\" class=\"dataframe\">\n",
       "  <thead>\n",
       "    <tr style=\"text-align: right;\">\n",
       "      <th></th>\n",
       "      <th>B00001_001E</th>\n",
       "      <th>NAME</th>\n",
       "      <th>state</th>\n",
       "      <th>public use microdata area</th>\n",
       "      <th>Unnamed: 4</th>\n",
       "      <th>PUMA</th>\n",
       "    </tr>\n",
       "  </thead>\n",
       "  <tbody>\n",
       "    <tr>\n",
       "      <th>0</th>\n",
       "      <td>3075</td>\n",
       "      <td>St. Lawrence County PUMA, New York</td>\n",
       "      <td>36</td>\n",
       "      <td>100</td>\n",
       "      <td>NaN</td>\n",
       "      <td>100</td>\n",
       "    </tr>\n",
       "    <tr>\n",
       "      <th>1</th>\n",
       "      <td>4356</td>\n",
       "      <td>Clinton, Franklin, Essex &amp; Hamilton Counties P...</td>\n",
       "      <td>36</td>\n",
       "      <td>200</td>\n",
       "      <td>NaN</td>\n",
       "      <td>200</td>\n",
       "    </tr>\n",
       "    <tr>\n",
       "      <th>2</th>\n",
       "      <td>2736</td>\n",
       "      <td>Warren &amp; Washington Counties PUMA, New York</td>\n",
       "      <td>36</td>\n",
       "      <td>300</td>\n",
       "      <td>NaN</td>\n",
       "      <td>300</td>\n",
       "    </tr>\n",
       "    <tr>\n",
       "      <th>3</th>\n",
       "      <td>2722</td>\n",
       "      <td>Herkimer (North &amp; Central) &amp; Oneida (Outer) Co...</td>\n",
       "      <td>36</td>\n",
       "      <td>401</td>\n",
       "      <td>NaN</td>\n",
       "      <td>401</td>\n",
       "    </tr>\n",
       "    <tr>\n",
       "      <th>4</th>\n",
       "      <td>2874</td>\n",
       "      <td>Oneida County (Central)--Greater Utica &amp; Rome ...</td>\n",
       "      <td>36</td>\n",
       "      <td>402</td>\n",
       "      <td>NaN</td>\n",
       "      <td>402</td>\n",
       "    </tr>\n",
       "  </tbody>\n",
       "</table>\n",
       "</div>"
      ],
      "text/plain": [
       "   B00001_001E                                               NAME  state  \\\n",
       "0         3075                 St. Lawrence County PUMA, New York     36   \n",
       "1         4356  Clinton, Franklin, Essex & Hamilton Counties P...     36   \n",
       "2         2736        Warren & Washington Counties PUMA, New York     36   \n",
       "3         2722  Herkimer (North & Central) & Oneida (Outer) Co...     36   \n",
       "4         2874  Oneida County (Central)--Greater Utica & Rome ...     36   \n",
       "\n",
       "   public use microdata area  Unnamed: 4  PUMA  \n",
       "0                        100         NaN   100  \n",
       "1                        200         NaN   200  \n",
       "2                        300         NaN   300  \n",
       "3                        401         NaN   401  \n",
       "4                        402         NaN   402  "
      ]
     },
     "execution_count": 34,
     "metadata": {},
     "output_type": "execute_result"
    }
   ],
   "source": [
    "\n",
    "\n",
    "\n",
    "# pulling in total population \n",
    "urlpop = \"https://api.census.gov/data/2016/acs/acs1?get=\" + keyPop +\\\n",
    "\",NAME&for=public%20use%20microdata%20area:*&in=state:36&key=\" + myAPI\n",
    "respPop = requests.request('GET', urlpop).content\n",
    "pumaPop = pd.read_csv(io.StringIO(respPop.decode('utf-8').replace('[','').replace(']','')))\n",
    "pumaPop['PUMA'] = pumaPop['public use microdata area'].astype(int)\n",
    "pumaPop.head()"
   ]
  },
  {
   "cell_type": "markdown",
   "metadata": {},
   "source": [
    "### 5.2 find the number of stations per 100 people per PUMA"
   ]
  },
  {
   "cell_type": "code",
   "execution_count": 35,
   "metadata": {},
   "outputs": [
    {
     "data": {
      "text/html": [
       "<div>\n",
       "<table border=\"1\" class=\"dataframe\">\n",
       "  <thead>\n",
       "    <tr style=\"text-align: right;\">\n",
       "      <th></th>\n",
       "      <th>shape_area</th>\n",
       "      <th>shape_leng</th>\n",
       "      <th>puma</th>\n",
       "      <th>geometry</th>\n",
       "      <th>PUMA</th>\n",
       "      <th>B28002_001E</th>\n",
       "      <th>NAME_x</th>\n",
       "      <th>state_x</th>\n",
       "      <th>public use microdata area_x</th>\n",
       "      <th>Unnamed: 4_x</th>\n",
       "      <th>...</th>\n",
       "      <th>NAME_y</th>\n",
       "      <th>state_y</th>\n",
       "      <th>Unnamed: 4_y</th>\n",
       "      <th>percent_BB</th>\n",
       "      <th>B00001_001E</th>\n",
       "      <th>NAME</th>\n",
       "      <th>state</th>\n",
       "      <th>public use microdata area_y</th>\n",
       "      <th>Unnamed: 4</th>\n",
       "      <th>per100</th>\n",
       "    </tr>\n",
       "  </thead>\n",
       "  <tbody>\n",
       "    <tr>\n",
       "      <th>0</th>\n",
       "      <td>9.792852e+07</td>\n",
       "      <td>53227.144357</td>\n",
       "      <td>3701</td>\n",
       "      <td>POLYGON ((-73.89641133483133 40.90450452082026...</td>\n",
       "      <td>3701</td>\n",
       "      <td>42158</td>\n",
       "      <td>NYC-Bronx Community District 8--Riverdale, Fie...</td>\n",
       "      <td>36</td>\n",
       "      <td>3701</td>\n",
       "      <td>NaN</td>\n",
       "      <td>...</td>\n",
       "      <td>NYC-Bronx Community District 8--Riverdale, Fie...</td>\n",
       "      <td>36</td>\n",
       "      <td>NaN</td>\n",
       "      <td>84.275820</td>\n",
       "      <td>1517</td>\n",
       "      <td>NYC-Bronx Community District 8--Riverdale, Fie...</td>\n",
       "      <td>36</td>\n",
       "      <td>3701</td>\n",
       "      <td>NaN</td>\n",
       "      <td>15.17</td>\n",
       "    </tr>\n",
       "    <tr>\n",
       "      <th>1</th>\n",
       "      <td>1.889860e+08</td>\n",
       "      <td>106050.002507</td>\n",
       "      <td>3702</td>\n",
       "      <td>POLYGON ((-73.86477258283533 40.90201244187379...</td>\n",
       "      <td>3702</td>\n",
       "      <td>49817</td>\n",
       "      <td>NYC-Bronx Community District 12--Wakefield, Wi...</td>\n",
       "      <td>36</td>\n",
       "      <td>3702</td>\n",
       "      <td>NaN</td>\n",
       "      <td>...</td>\n",
       "      <td>NYC-Bronx Community District 12--Wakefield, Wi...</td>\n",
       "      <td>36</td>\n",
       "      <td>NaN</td>\n",
       "      <td>68.310015</td>\n",
       "      <td>1959</td>\n",
       "      <td>NYC-Bronx Community District 12--Wakefield, Wi...</td>\n",
       "      <td>36</td>\n",
       "      <td>3702</td>\n",
       "      <td>NaN</td>\n",
       "      <td>19.59</td>\n",
       "    </tr>\n",
       "  </tbody>\n",
       "</table>\n",
       "<p>2 rows × 21 columns</p>\n",
       "</div>"
      ],
      "text/plain": [
       "     shape_area     shape_leng  puma  \\\n",
       "0  9.792852e+07   53227.144357  3701   \n",
       "1  1.889860e+08  106050.002507  3702   \n",
       "\n",
       "                                            geometry  PUMA  B28002_001E  \\\n",
       "0  POLYGON ((-73.89641133483133 40.90450452082026...  3701        42158   \n",
       "1  POLYGON ((-73.86477258283533 40.90201244187379...  3702        49817   \n",
       "\n",
       "                                              NAME_x  state_x  \\\n",
       "0  NYC-Bronx Community District 8--Riverdale, Fie...       36   \n",
       "1  NYC-Bronx Community District 12--Wakefield, Wi...       36   \n",
       "\n",
       "   public use microdata area_x  Unnamed: 4_x   ...    \\\n",
       "0                         3701           NaN   ...     \n",
       "1                         3702           NaN   ...     \n",
       "\n",
       "                                              NAME_y state_y  Unnamed: 4_y  \\\n",
       "0  NYC-Bronx Community District 8--Riverdale, Fie...      36           NaN   \n",
       "1  NYC-Bronx Community District 12--Wakefield, Wi...      36           NaN   \n",
       "\n",
       "   percent_BB  B00001_001E                                               NAME  \\\n",
       "0   84.275820         1517  NYC-Bronx Community District 8--Riverdale, Fie...   \n",
       "1   68.310015         1959  NYC-Bronx Community District 12--Wakefield, Wi...   \n",
       "\n",
       "  state  public use microdata area_y  Unnamed: 4  per100  \n",
       "0    36                         3701         NaN   15.17  \n",
       "1    36                         3702         NaN   19.59  \n",
       "\n",
       "[2 rows x 21 columns]"
      ]
     },
     "execution_count": 35,
     "metadata": {},
     "output_type": "execute_result"
    }
   ],
   "source": [
    "# # merging population into gdf\n",
    "pumashp = pd.merge(pumashp, pumaPop, on='PUMA')\n",
    "# creating a column dividing by 100\n",
    "pumashp['per100'] = pumashp['B00001_001E'] / 100\n",
    "pumashp.head(2)"
   ]
  },
  {
   "cell_type": "code",
   "execution_count": 36,
   "metadata": {},
   "outputs": [],
   "source": [
    "# converting to correct epsg for sjoin\n",
    "pumashp = pumashp.to_crs(epsg=2263)\n",
    "linkNYC = linkNYC.to_crs(epsg=2263)"
   ]
  },
  {
   "cell_type": "code",
   "execution_count": 37,
   "metadata": {},
   "outputs": [
    {
     "data": {
      "text/plain": [
       "(1414, 28)"
      ]
     },
     "execution_count": 37,
     "metadata": {},
     "output_type": "execute_result"
    }
   ],
   "source": [
    "# finally the sjoin!\n",
    "puma_link = gp.sjoin(pumashp, linkNYC)\n",
    "puma_link.shape"
   ]
  },
  {
   "cell_type": "code",
   "execution_count": 38,
   "metadata": {},
   "outputs": [],
   "source": [
    "# cleaning it up\n",
    "puma_link = puma_link.drop(['state_x', 'Unnamed: 4_x', 'NAME_y', 'Unnamed: 4_y', 'state', 'Unnamed: 0', 'NAME_x', 'state_y', 'NAME', 'Unnamed: 4', 'index_right'], inplace=False, axis=1)"
   ]
  },
  {
   "cell_type": "code",
   "execution_count": 39,
   "metadata": {},
   "outputs": [
    {
     "name": "stdout",
     "output_type": "stream",
     "text": [
      "Index([                 u'shape_area',                  u'shape_leng',\n",
      "                              u'puma',                    u'geometry',\n",
      "                              u'PUMA',                 u'B28002_001E',\n",
      "       u'public use microdata area_x',                 u'B28002_004E',\n",
      "                        u'percent_BB',                 u'B00001_001E',\n",
      "       u'public use microdata area_y',                      u'per100',\n",
      "                         u'link_site',                   u'longitude',\n",
      "                        u'date_link_',                    u'latitude',\n",
      "                            u'lonlat'],\n",
      "      dtype='object')\n"
     ]
    },
    {
     "data": {
      "text/html": [
       "<div>\n",
       "<table border=\"1\" class=\"dataframe\">\n",
       "  <thead>\n",
       "    <tr style=\"text-align: right;\">\n",
       "      <th></th>\n",
       "      <th>shape_area</th>\n",
       "      <th>shape_leng</th>\n",
       "      <th>puma</th>\n",
       "      <th>geometry</th>\n",
       "      <th>PUMA</th>\n",
       "      <th>B28002_001E</th>\n",
       "      <th>public use microdata area_x</th>\n",
       "      <th>B28002_004E</th>\n",
       "      <th>percent_BB</th>\n",
       "      <th>B00001_001E</th>\n",
       "      <th>public use microdata area_y</th>\n",
       "      <th>per100</th>\n",
       "      <th>link_site</th>\n",
       "      <th>longitude</th>\n",
       "      <th>date_link_</th>\n",
       "      <th>latitude</th>\n",
       "      <th>lonlat</th>\n",
       "    </tr>\n",
       "  </thead>\n",
       "  <tbody>\n",
       "    <tr>\n",
       "      <th>0</th>\n",
       "      <td>9.792852e+07</td>\n",
       "      <td>53227.144357</td>\n",
       "      <td>3701</td>\n",
       "      <td>POLYGON ((1012885.033996583 268830.4841918442,...</td>\n",
       "      <td>3701</td>\n",
       "      <td>42158</td>\n",
       "      <td>3701</td>\n",
       "      <td>35529</td>\n",
       "      <td>84.275820</td>\n",
       "      <td>1517</td>\n",
       "      <td>3701</td>\n",
       "      <td>15.17</td>\n",
       "      <td>bx-08-145850</td>\n",
       "      <td>-73.902101</td>\n",
       "      <td>2017-06-10</td>\n",
       "      <td>40.868698</td>\n",
       "      <td>(-73.9021009, 40.86869849)</td>\n",
       "    </tr>\n",
       "    <tr>\n",
       "      <th>4</th>\n",
       "      <td>1.224950e+08</td>\n",
       "      <td>68630.512052</td>\n",
       "      <td>3705</td>\n",
       "      <td>POLYGON ((1015377.269592287 238959.501403747, ...</td>\n",
       "      <td>3705</td>\n",
       "      <td>58706</td>\n",
       "      <td>3705</td>\n",
       "      <td>40757</td>\n",
       "      <td>69.425612</td>\n",
       "      <td>2011</td>\n",
       "      <td>3705</td>\n",
       "      <td>20.11</td>\n",
       "      <td>bx-06-118922</td>\n",
       "      <td>-73.898221</td>\n",
       "      <td>2017-10-20</td>\n",
       "      <td>40.846926</td>\n",
       "      <td>(-73.898220556, 40.8469261747)</td>\n",
       "    </tr>\n",
       "    <tr>\n",
       "      <th>5</th>\n",
       "      <td>4.388687e+07</td>\n",
       "      <td>51799.404760</td>\n",
       "      <td>3706</td>\n",
       "      <td>POLYGON ((1018060.325195312 261167.655395456, ...</td>\n",
       "      <td>3706</td>\n",
       "      <td>46018</td>\n",
       "      <td>3706</td>\n",
       "      <td>34391</td>\n",
       "      <td>74.733800</td>\n",
       "      <td>1274</td>\n",
       "      <td>3706</td>\n",
       "      <td>12.74</td>\n",
       "      <td>bx-05-119659</td>\n",
       "      <td>-73.893343</td>\n",
       "      <td>2016-12-06</td>\n",
       "      <td>40.860027</td>\n",
       "      <td>(-73.893343, 40.860027)</td>\n",
       "    </tr>\n",
       "  </tbody>\n",
       "</table>\n",
       "</div>"
      ],
      "text/plain": [
       "     shape_area    shape_leng  puma  \\\n",
       "0  9.792852e+07  53227.144357  3701   \n",
       "4  1.224950e+08  68630.512052  3705   \n",
       "5  4.388687e+07  51799.404760  3706   \n",
       "\n",
       "                                            geometry  PUMA  B28002_001E  \\\n",
       "0  POLYGON ((1012885.033996583 268830.4841918442,...  3701        42158   \n",
       "4  POLYGON ((1015377.269592287 238959.501403747, ...  3705        58706   \n",
       "5  POLYGON ((1018060.325195312 261167.655395456, ...  3706        46018   \n",
       "\n",
       "   public use microdata area_x  B28002_004E  percent_BB  B00001_001E  \\\n",
       "0                         3701        35529   84.275820         1517   \n",
       "4                         3705        40757   69.425612         2011   \n",
       "5                         3706        34391   74.733800         1274   \n",
       "\n",
       "   public use microdata area_y  per100     link_site  longitude  date_link_  \\\n",
       "0                         3701   15.17  bx-08-145850 -73.902101  2017-06-10   \n",
       "4                         3705   20.11  bx-06-118922 -73.898221  2017-10-20   \n",
       "5                         3706   12.74  bx-05-119659 -73.893343  2016-12-06   \n",
       "\n",
       "    latitude                          lonlat  \n",
       "0  40.868698      (-73.9021009, 40.86869849)  \n",
       "4  40.846926  (-73.898220556, 40.8469261747)  \n",
       "5  40.860027         (-73.893343, 40.860027)  "
      ]
     },
     "execution_count": 39,
     "metadata": {},
     "output_type": "execute_result"
    }
   ],
   "source": [
    "print puma_link.columns\n",
    "puma_link.head(3)"
   ]
  },
  {
   "cell_type": "code",
   "execution_count": 40,
   "metadata": {},
   "outputs": [
    {
     "data": {
      "text/html": [
       "<div>\n",
       "<table border=\"1\" class=\"dataframe\">\n",
       "  <thead>\n",
       "    <tr style=\"text-align: right;\">\n",
       "      <th></th>\n",
       "      <th>PUMA</th>\n",
       "      <th>link_site</th>\n",
       "    </tr>\n",
       "  </thead>\n",
       "  <tbody>\n",
       "    <tr>\n",
       "      <th>0</th>\n",
       "      <td>3701</td>\n",
       "      <td>1</td>\n",
       "    </tr>\n",
       "    <tr>\n",
       "      <th>1</th>\n",
       "      <td>3705</td>\n",
       "      <td>1</td>\n",
       "    </tr>\n",
       "    <tr>\n",
       "      <th>2</th>\n",
       "      <td>3706</td>\n",
       "      <td>20</td>\n",
       "    </tr>\n",
       "    <tr>\n",
       "      <th>3</th>\n",
       "      <td>3707</td>\n",
       "      <td>29</td>\n",
       "    </tr>\n",
       "    <tr>\n",
       "      <th>4</th>\n",
       "      <td>3708</td>\n",
       "      <td>19</td>\n",
       "    </tr>\n",
       "  </tbody>\n",
       "</table>\n",
       "</div>"
      ],
      "text/plain": [
       "   PUMA  link_site\n",
       "0  3701          1\n",
       "1  3705          1\n",
       "2  3706         20\n",
       "3  3707         29\n",
       "4  3708         19"
      ]
     },
     "execution_count": 40,
     "metadata": {},
     "output_type": "execute_result"
    }
   ],
   "source": [
    "# gorup by count per puma, and reset index\n",
    "linkCount = puma_link.groupby('PUMA')[['link_site']].count()\n",
    "linkCount.reset_index(level=0, inplace=True)\n",
    "linkCount.head()"
   ]
  },
  {
   "cell_type": "code",
   "execution_count": 41,
   "metadata": {},
   "outputs": [
    {
     "data": {
      "text/html": [
       "<div>\n",
       "<table border=\"1\" class=\"dataframe\">\n",
       "  <thead>\n",
       "    <tr style=\"text-align: right;\">\n",
       "      <th></th>\n",
       "      <th>shape_area</th>\n",
       "      <th>shape_leng</th>\n",
       "      <th>puma</th>\n",
       "      <th>geometry</th>\n",
       "      <th>PUMA</th>\n",
       "      <th>B28002_001E</th>\n",
       "      <th>NAME_x</th>\n",
       "      <th>state_x</th>\n",
       "      <th>public use microdata area_x</th>\n",
       "      <th>Unnamed: 4_x</th>\n",
       "      <th>...</th>\n",
       "      <th>state_y</th>\n",
       "      <th>Unnamed: 4_y</th>\n",
       "      <th>percent_BB</th>\n",
       "      <th>B00001_001E</th>\n",
       "      <th>NAME</th>\n",
       "      <th>state</th>\n",
       "      <th>public use microdata area_y</th>\n",
       "      <th>Unnamed: 4</th>\n",
       "      <th>per100</th>\n",
       "      <th>link_site</th>\n",
       "    </tr>\n",
       "  </thead>\n",
       "  <tbody>\n",
       "    <tr>\n",
       "      <th>0</th>\n",
       "      <td>9.792852e+07</td>\n",
       "      <td>53227.144357</td>\n",
       "      <td>3701</td>\n",
       "      <td>POLYGON ((1012885.033996583 268830.4841918442,...</td>\n",
       "      <td>3701</td>\n",
       "      <td>42158</td>\n",
       "      <td>NYC-Bronx Community District 8--Riverdale, Fie...</td>\n",
       "      <td>36</td>\n",
       "      <td>3701</td>\n",
       "      <td>NaN</td>\n",
       "      <td>...</td>\n",
       "      <td>36</td>\n",
       "      <td>NaN</td>\n",
       "      <td>84.27582</td>\n",
       "      <td>1517</td>\n",
       "      <td>NYC-Bronx Community District 8--Riverdale, Fie...</td>\n",
       "      <td>36</td>\n",
       "      <td>3701</td>\n",
       "      <td>NaN</td>\n",
       "      <td>15.17</td>\n",
       "      <td>1.0</td>\n",
       "    </tr>\n",
       "  </tbody>\n",
       "</table>\n",
       "<p>1 rows × 22 columns</p>\n",
       "</div>"
      ],
      "text/plain": [
       "     shape_area    shape_leng  puma  \\\n",
       "0  9.792852e+07  53227.144357  3701   \n",
       "\n",
       "                                            geometry  PUMA  B28002_001E  \\\n",
       "0  POLYGON ((1012885.033996583 268830.4841918442,...  3701        42158   \n",
       "\n",
       "                                              NAME_x  state_x  \\\n",
       "0  NYC-Bronx Community District 8--Riverdale, Fie...       36   \n",
       "\n",
       "   public use microdata area_x  Unnamed: 4_x    ...      state_y Unnamed: 4_y  \\\n",
       "0                         3701           NaN    ...           36          NaN   \n",
       "\n",
       "   percent_BB  B00001_001E                                               NAME  \\\n",
       "0    84.27582         1517  NYC-Bronx Community District 8--Riverdale, Fie...   \n",
       "\n",
       "   state public use microdata area_y  Unnamed: 4  per100  link_site  \n",
       "0     36                        3701         NaN   15.17        1.0  \n",
       "\n",
       "[1 rows x 22 columns]"
      ]
     },
     "execution_count": 41,
     "metadata": {},
     "output_type": "execute_result"
    }
   ],
   "source": [
    "# merging back with shape\n",
    "pumashplc = pd.merge(pumashp, linkCount, on='PUMA', how='outer')\n",
    "pumashplc.head(1)"
   ]
  },
  {
   "cell_type": "code",
   "execution_count": 42,
   "metadata": {},
   "outputs": [
    {
     "name": "stderr",
     "output_type": "stream",
     "text": [
      "/opt/rh/anaconda/root/envs/PUI2016_Python2/lib/python2.7/site-packages/numpy/lib/function_base.py:3834: RuntimeWarning: Invalid value encountered in percentile\n",
      "  RuntimeWarning)\n"
     ]
    },
    {
     "data": {
      "text/plain": [
       "count    37.000000\n",
       "mean      2.327677\n",
       "std       3.328955\n",
       "min       0.049727\n",
       "25%            NaN\n",
       "50%            NaN\n",
       "75%            NaN\n",
       "max      15.141540\n",
       "Name: link100, dtype: float64"
      ]
     },
     "execution_count": 42,
     "metadata": {},
     "output_type": "execute_result"
    }
   ],
   "source": [
    "pumashplc['link100'] = pumashplc['link_site']/ pumashplc['per100']\n",
    "pumashplc.link100.describe()"
   ]
  },
  {
   "cell_type": "markdown",
   "metadata": {},
   "source": [
    "### Plot the linkNYC locations on top of a choropleth of number of stations per 100 people  in 10 equal intervals\n"
   ]
  },
  {
   "cell_type": "code",
   "execution_count": 43,
   "metadata": {},
   "outputs": [
    {
     "name": "stderr",
     "output_type": "stream",
     "text": [
      "/opt/rh/anaconda/root/envs/PUI2016_Python2/lib/python2.7/site-packages/numpy/lib/function_base.py:3569: RuntimeWarning: Invalid value encountered in median\n",
      "  RuntimeWarning)\n"
     ]
    },
    {
     "data": {
      "text/plain": [
       "<matplotlib.text.Text at 0x7fddce8733d0>"
      ]
     },
     "execution_count": 43,
     "metadata": {},
     "output_type": "execute_result"
    },
    {
     "data": {
      "image/png": "[encoded data removed]",
      "text/plain": [
       "<matplotlib.figure.Figure at 0x7fdd4f65b650>"
      ]
     },
     "metadata": {},
     "output_type": "display_data"
    }
   ],
   "source": [
    "# plotting the basemap\n",
    "fig, ax, cb = cp.choroplethNYC(pumashplc, column='link100', cmap='pink', scheme=\"Equal_interval\", k=10, lw=1, cb=True);\n",
    "\n",
    "# plotting the linknyc kiosks\n",
    "linkNYC.plot(ax=ax, cmap='Reds', markersize=2, alpha=.75)\n",
    "plt.title('LinkNYC Stations Per 100 People + Kiosk Locations ', fontsize=20)\n"
   ]
  },
  {
   "cell_type": "markdown",
   "metadata": {},
   "source": [
    "**Figure 4:** This shows locations of each linkNYC kiosk on a choropleth of the number of stations for every group of 100 people. It shows that the most kiosks are in areas that already have some form of broadband internet, and most of New York City is dark, with no kiosks."
   ]
  },
  {
   "cell_type": "markdown",
   "metadata": {},
   "source": [
    "### Extra credit 1: \n",
    "How would you enhance the visibility of this map? you are working with numbers that are mostly very low, and reside near each other, and them have a few much higher value points. Notice that here the high values are interesting though and should not be thrown away!"
   ]
  },
  {
   "cell_type": "code",
   "execution_count": 44,
   "metadata": {},
   "outputs": [
    {
     "data": {
      "image/png": "[encoded data removed]",
      "text/plain": [
       "<matplotlib.figure.Figure at 0x7fddce75edd0>"
      ]
     },
     "metadata": {},
     "output_type": "display_data"
    }
   ],
   "source": [
    "# investigating distribution of kiosks per 100 people\n",
    "pl.hist(pumashplc[\"per100\"], bins=30);"
   ]
  },
  {
   "cell_type": "markdown",
   "metadata": {},
   "source": [
    "To enhance visibility, I'd do serveral things (beyond doing this in ArcMap instead!). Things to explore include: \n",
    "- look at each borough in isolation\n",
    "- create more buckets of identification with geopandas map\n",
    "- increase fig size for visibility\n",
    "- modify markersize and other built in functions"
   ]
  },
  {
   "cell_type": "markdown",
   "metadata": {},
   "source": [
    "### Grade: 9/10 - error when referencing pumashp.PUMA"
   ]
  },
  {
   "cell_type": "code",
   "execution_count": null,
   "metadata": {},
   "outputs": [],
   "source": []
  }
 ],
 "metadata": {
  "kernelspec": {
   "display_name": "PUI2016_Python2",
   "language": "python",
   "name": "pui2016_python2"
  },
  "language_info": {
   "codemirror_mode": {
    "name": "ipython",
    "version": 2
   },
   "file_extension": ".py",
   "mimetype": "text/x-python",
   "name": "python",
   "nbconvert_exporter": "python",
   "pygments_lexer": "ipython2",
   "version": "2.7.12"
  }
 },
 "nbformat": 4,
 "nbformat_minor": 2
}
